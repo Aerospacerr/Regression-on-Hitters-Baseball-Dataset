{
 "cells": [
  {
   "cell_type": "markdown",
   "id": "22ed5a71",
   "metadata": {
    "papermill": {
     "duration": 0.033563,
     "end_time": "2022-01-21T19:23:23.440857",
     "exception": false,
     "start_time": "2022-01-21T19:23:23.407294",
     "status": "completed"
    },
    "tags": []
   },
   "source": [
    "![](https://metshotcorner.com/wp-content/uploads/2016/05/2016.05.25.jpg)"
   ]
  },
  {
   "cell_type": "markdown",
   "id": "bdf4dc60",
   "metadata": {
    "papermill": {
     "duration": 0.03316,
     "end_time": "2022-01-21T19:23:23.507307",
     "exception": false,
     "start_time": "2022-01-21T19:23:23.474147",
     "status": "completed"
    },
    "tags": []
   },
   "source": [
    "# Linear Regression on Hitters Baseball Dataset "
   ]
  },
  {
   "cell_type": "code",
   "execution_count": 1,
   "id": "d25cd501",
   "metadata": {
    "execution": {
     "iopub.execute_input": "2022-01-21T19:23:23.586952Z",
     "iopub.status.busy": "2022-01-21T19:23:23.586216Z",
     "iopub.status.idle": "2022-01-21T19:23:24.945018Z",
     "shell.execute_reply": "2022-01-21T19:23:24.945571Z",
     "shell.execute_reply.started": "2022-01-21T19:01:17.933995Z"
    },
    "papermill": {
     "duration": 1.403291,
     "end_time": "2022-01-21T19:23:24.945877",
     "exception": false,
     "start_time": "2022-01-21T19:23:23.542586",
     "status": "completed"
    },
    "tags": []
   },
   "outputs": [],
   "source": [
    "import pandas as pd\n",
    "import numpy as np\n",
    "import seaborn as sns\n",
    "from matplotlib import pyplot as plt\n",
    "\n",
    "from sklearn.model_selection import train_test_split, cross_val_score\n",
    "from sklearn.metrics import mean_squared_error, mean_absolute_error, r2_score, f1_score, accuracy_score\n",
    "from sklearn.preprocessing import RobustScaler\n",
    "from sklearn.linear_model import LinearRegression, LogisticRegression, Lasso, ElasticNet"
   ]
  },
  {
   "cell_type": "code",
   "execution_count": 2,
   "id": "8934748e",
   "metadata": {
    "execution": {
     "iopub.execute_input": "2022-01-21T19:23:25.020291Z",
     "iopub.status.busy": "2022-01-21T19:23:25.019627Z",
     "iopub.status.idle": "2022-01-21T19:23:25.043306Z",
     "shell.execute_reply": "2022-01-21T19:23:25.043678Z",
     "shell.execute_reply.started": "2022-01-21T19:01:18.504889Z"
    },
    "papermill": {
     "duration": 0.061161,
     "end_time": "2022-01-21T19:23:25.043844",
     "exception": false,
     "start_time": "2022-01-21T19:23:24.982683",
     "status": "completed"
    },
    "tags": []
   },
   "outputs": [],
   "source": [
    "df = pd.read_csv(\"../input/hitters-baseball-data/Hitters.csv\")"
   ]
  },
  {
   "cell_type": "code",
   "execution_count": 3,
   "id": "50815f42",
   "metadata": {
    "execution": {
     "iopub.execute_input": "2022-01-21T19:23:25.112311Z",
     "iopub.status.busy": "2022-01-21T19:23:25.111648Z",
     "iopub.status.idle": "2022-01-21T19:23:25.135439Z",
     "shell.execute_reply": "2022-01-21T19:23:25.135818Z",
     "shell.execute_reply.started": "2022-01-21T19:01:18.522804Z"
    },
    "papermill": {
     "duration": 0.059664,
     "end_time": "2022-01-21T19:23:25.135968",
     "exception": false,
     "start_time": "2022-01-21T19:23:25.076304",
     "status": "completed"
    },
    "tags": []
   },
   "outputs": [
    {
     "data": {
      "text/html": [
       "<div>\n",
       "<style scoped>\n",
       "    .dataframe tbody tr th:only-of-type {\n",
       "        vertical-align: middle;\n",
       "    }\n",
       "\n",
       "    .dataframe tbody tr th {\n",
       "        vertical-align: top;\n",
       "    }\n",
       "\n",
       "    .dataframe thead th {\n",
       "        text-align: right;\n",
       "    }\n",
       "</style>\n",
       "<table border=\"1\" class=\"dataframe\">\n",
       "  <thead>\n",
       "    <tr style=\"text-align: right;\">\n",
       "      <th></th>\n",
       "      <th>AtBat</th>\n",
       "      <th>Hits</th>\n",
       "      <th>HmRun</th>\n",
       "      <th>Runs</th>\n",
       "      <th>RBI</th>\n",
       "      <th>Walks</th>\n",
       "      <th>Years</th>\n",
       "      <th>CAtBat</th>\n",
       "      <th>CHits</th>\n",
       "      <th>CHmRun</th>\n",
       "      <th>CRuns</th>\n",
       "      <th>CRBI</th>\n",
       "      <th>CWalks</th>\n",
       "      <th>League</th>\n",
       "      <th>Division</th>\n",
       "      <th>PutOuts</th>\n",
       "      <th>Assists</th>\n",
       "      <th>Errors</th>\n",
       "      <th>Salary</th>\n",
       "      <th>NewLeague</th>\n",
       "    </tr>\n",
       "  </thead>\n",
       "  <tbody>\n",
       "    <tr>\n",
       "      <th>0</th>\n",
       "      <td>293</td>\n",
       "      <td>66</td>\n",
       "      <td>1</td>\n",
       "      <td>30</td>\n",
       "      <td>29</td>\n",
       "      <td>14</td>\n",
       "      <td>1</td>\n",
       "      <td>293</td>\n",
       "      <td>66</td>\n",
       "      <td>1</td>\n",
       "      <td>30</td>\n",
       "      <td>29</td>\n",
       "      <td>14</td>\n",
       "      <td>A</td>\n",
       "      <td>E</td>\n",
       "      <td>446</td>\n",
       "      <td>33</td>\n",
       "      <td>20</td>\n",
       "      <td>NaN</td>\n",
       "      <td>A</td>\n",
       "    </tr>\n",
       "    <tr>\n",
       "      <th>1</th>\n",
       "      <td>315</td>\n",
       "      <td>81</td>\n",
       "      <td>7</td>\n",
       "      <td>24</td>\n",
       "      <td>38</td>\n",
       "      <td>39</td>\n",
       "      <td>14</td>\n",
       "      <td>3449</td>\n",
       "      <td>835</td>\n",
       "      <td>69</td>\n",
       "      <td>321</td>\n",
       "      <td>414</td>\n",
       "      <td>375</td>\n",
       "      <td>N</td>\n",
       "      <td>W</td>\n",
       "      <td>632</td>\n",
       "      <td>43</td>\n",
       "      <td>10</td>\n",
       "      <td>475.0</td>\n",
       "      <td>N</td>\n",
       "    </tr>\n",
       "    <tr>\n",
       "      <th>2</th>\n",
       "      <td>479</td>\n",
       "      <td>130</td>\n",
       "      <td>18</td>\n",
       "      <td>66</td>\n",
       "      <td>72</td>\n",
       "      <td>76</td>\n",
       "      <td>3</td>\n",
       "      <td>1624</td>\n",
       "      <td>457</td>\n",
       "      <td>63</td>\n",
       "      <td>224</td>\n",
       "      <td>266</td>\n",
       "      <td>263</td>\n",
       "      <td>A</td>\n",
       "      <td>W</td>\n",
       "      <td>880</td>\n",
       "      <td>82</td>\n",
       "      <td>14</td>\n",
       "      <td>480.0</td>\n",
       "      <td>A</td>\n",
       "    </tr>\n",
       "    <tr>\n",
       "      <th>3</th>\n",
       "      <td>496</td>\n",
       "      <td>141</td>\n",
       "      <td>20</td>\n",
       "      <td>65</td>\n",
       "      <td>78</td>\n",
       "      <td>37</td>\n",
       "      <td>11</td>\n",
       "      <td>5628</td>\n",
       "      <td>1575</td>\n",
       "      <td>225</td>\n",
       "      <td>828</td>\n",
       "      <td>838</td>\n",
       "      <td>354</td>\n",
       "      <td>N</td>\n",
       "      <td>E</td>\n",
       "      <td>200</td>\n",
       "      <td>11</td>\n",
       "      <td>3</td>\n",
       "      <td>500.0</td>\n",
       "      <td>N</td>\n",
       "    </tr>\n",
       "    <tr>\n",
       "      <th>4</th>\n",
       "      <td>321</td>\n",
       "      <td>87</td>\n",
       "      <td>10</td>\n",
       "      <td>39</td>\n",
       "      <td>42</td>\n",
       "      <td>30</td>\n",
       "      <td>2</td>\n",
       "      <td>396</td>\n",
       "      <td>101</td>\n",
       "      <td>12</td>\n",
       "      <td>48</td>\n",
       "      <td>46</td>\n",
       "      <td>33</td>\n",
       "      <td>N</td>\n",
       "      <td>E</td>\n",
       "      <td>805</td>\n",
       "      <td>40</td>\n",
       "      <td>4</td>\n",
       "      <td>91.5</td>\n",
       "      <td>N</td>\n",
       "    </tr>\n",
       "  </tbody>\n",
       "</table>\n",
       "</div>"
      ],
      "text/plain": [
       "   AtBat  Hits  HmRun  Runs  RBI  Walks  Years  CAtBat  CHits  CHmRun  CRuns  \\\n",
       "0    293    66      1    30   29     14      1     293     66       1     30   \n",
       "1    315    81      7    24   38     39     14    3449    835      69    321   \n",
       "2    479   130     18    66   72     76      3    1624    457      63    224   \n",
       "3    496   141     20    65   78     37     11    5628   1575     225    828   \n",
       "4    321    87     10    39   42     30      2     396    101      12     48   \n",
       "\n",
       "   CRBI  CWalks League Division  PutOuts  Assists  Errors  Salary NewLeague  \n",
       "0    29      14      A        E      446       33      20     NaN         A  \n",
       "1   414     375      N        W      632       43      10   475.0         N  \n",
       "2   266     263      A        W      880       82      14   480.0         A  \n",
       "3   838     354      N        E      200       11       3   500.0         N  \n",
       "4    46      33      N        E      805       40       4    91.5         N  "
      ]
     },
     "execution_count": 3,
     "metadata": {},
     "output_type": "execute_result"
    }
   ],
   "source": [
    "df.head()"
   ]
  },
  {
   "cell_type": "code",
   "execution_count": 4,
   "id": "bac0fb0a",
   "metadata": {
    "execution": {
     "iopub.execute_input": "2022-01-21T19:23:25.205090Z",
     "iopub.status.busy": "2022-01-21T19:23:25.204534Z",
     "iopub.status.idle": "2022-01-21T19:23:25.222795Z",
     "shell.execute_reply": "2022-01-21T19:23:25.223344Z",
     "shell.execute_reply.started": "2022-01-21T19:01:18.552387Z"
    },
    "papermill": {
     "duration": 0.054176,
     "end_time": "2022-01-21T19:23:25.223537",
     "exception": false,
     "start_time": "2022-01-21T19:23:25.169361",
     "status": "completed"
    },
    "tags": []
   },
   "outputs": [
    {
     "name": "stdout",
     "output_type": "stream",
     "text": [
      "##################### Shape #####################\n",
      "(322, 20)\n",
      "##################### Types #####################\n",
      "AtBat          int64\n",
      "Hits           int64\n",
      "HmRun          int64\n",
      "Runs           int64\n",
      "RBI            int64\n",
      "Walks          int64\n",
      "Years          int64\n",
      "CAtBat         int64\n",
      "CHits          int64\n",
      "CHmRun         int64\n",
      "CRuns          int64\n",
      "CRBI           int64\n",
      "CWalks         int64\n",
      "League        object\n",
      "Division      object\n",
      "PutOuts        int64\n",
      "Assists        int64\n",
      "Errors         int64\n",
      "Salary       float64\n",
      "NewLeague     object\n",
      "dtype: object\n",
      "##################### Head #####################\n",
      "   AtBat  Hits  HmRun  Runs  RBI  Walks  Years  CAtBat  CHits  CHmRun  CRuns  \\\n",
      "0    293    66      1    30   29     14      1     293     66       1     30   \n",
      "1    315    81      7    24   38     39     14    3449    835      69    321   \n",
      "2    479   130     18    66   72     76      3    1624    457      63    224   \n",
      "\n",
      "   CRBI  CWalks League Division  PutOuts  Assists  Errors  Salary NewLeague  \n",
      "0    29      14      A        E      446       33      20     NaN         A  \n",
      "1   414     375      N        W      632       43      10   475.0         N  \n",
      "2   266     263      A        W      880       82      14   480.0         A  \n",
      "##################### Tail #####################\n",
      "     AtBat  Hits  HmRun  Runs  RBI  Walks  Years  CAtBat  CHits  CHmRun  \\\n",
      "319    475   126      3    61   43     52      6    1700    433       7   \n",
      "320    573   144      9    85   60     78      8    3198    857      97   \n",
      "321    631   170      9    77   44     31     11    4908   1457      30   \n",
      "\n",
      "     CRuns  CRBI  CWalks League Division  PutOuts  Assists  Errors  Salary  \\\n",
      "319    217    93     146      A        W       37      113       7   385.0   \n",
      "320    470   420     332      A        E     1314      131      12   960.0   \n",
      "321    775   357     249      A        W      408        4       3  1000.0   \n",
      "\n",
      "    NewLeague  \n",
      "319         A  \n",
      "320         A  \n",
      "321         A  \n"
     ]
    }
   ],
   "source": [
    "# understand the data\n",
    "def check_df(dataframe):\n",
    "    print(\"##################### Shape #####################\")\n",
    "    print(dataframe.shape)\n",
    "    print(\"##################### Types #####################\")\n",
    "    print(dataframe.dtypes)\n",
    "    print(\"##################### Head #####################\")\n",
    "    print(dataframe.head(3))\n",
    "    print(\"##################### Tail #####################\")\n",
    "    print(dataframe.tail(3))\n",
    "    \n",
    "check_df(df)"
   ]
  },
  {
   "cell_type": "code",
   "execution_count": 5,
   "id": "5a037563",
   "metadata": {
    "execution": {
     "iopub.execute_input": "2022-01-21T19:23:25.293461Z",
     "iopub.status.busy": "2022-01-21T19:23:25.292687Z",
     "iopub.status.idle": "2022-01-21T19:23:25.313525Z",
     "shell.execute_reply": "2022-01-21T19:23:25.313951Z",
     "shell.execute_reply.started": "2022-01-21T19:01:18.578673Z"
    },
    "papermill": {
     "duration": 0.057539,
     "end_time": "2022-01-21T19:23:25.314102",
     "exception": false,
     "start_time": "2022-01-21T19:23:25.256563",
     "status": "completed"
    },
    "tags": []
   },
   "outputs": [
    {
     "name": "stdout",
     "output_type": "stream",
     "text": [
      "Num of Object Variables: 3\n",
      "Num of Integer Variables: 16\n",
      "Num of Float Variables: 1\n"
     ]
    }
   ],
   "source": [
    "print(\"Num of Object Variables:\", df.select_dtypes(object).shape[1])\n",
    "print(\"Num of Integer Variables:\", df.select_dtypes(\"integer\").shape[1])\n",
    "print(\"Num of Float Variables:\", df.select_dtypes(\"float\").shape[1])"
   ]
  },
  {
   "cell_type": "code",
   "execution_count": 6,
   "id": "948ddbee",
   "metadata": {
    "execution": {
     "iopub.execute_input": "2022-01-21T19:23:25.384207Z",
     "iopub.status.busy": "2022-01-21T19:23:25.383516Z",
     "iopub.status.idle": "2022-01-21T19:23:25.391541Z",
     "shell.execute_reply": "2022-01-21T19:23:25.391987Z",
     "shell.execute_reply.started": "2022-01-21T19:01:18.593857Z"
    },
    "papermill": {
     "duration": 0.045006,
     "end_time": "2022-01-21T19:23:25.392136",
     "exception": false,
     "start_time": "2022-01-21T19:23:25.347130",
     "status": "completed"
    },
    "tags": []
   },
   "outputs": [
    {
     "data": {
      "text/plain": [
       "AtBat         0\n",
       "Hits          0\n",
       "HmRun         0\n",
       "Runs          0\n",
       "RBI           0\n",
       "Walks         0\n",
       "Years         0\n",
       "CAtBat        0\n",
       "CHits         0\n",
       "CHmRun        0\n",
       "CRuns         0\n",
       "CRBI          0\n",
       "CWalks        0\n",
       "League        0\n",
       "Division      0\n",
       "PutOuts       0\n",
       "Assists       0\n",
       "Errors        0\n",
       "Salary       59\n",
       "NewLeague     0\n",
       "dtype: int64"
      ]
     },
     "execution_count": 6,
     "metadata": {},
     "output_type": "execute_result"
    }
   ],
   "source": [
    "# Null values\n",
    "df.isnull().sum()"
   ]
  },
  {
   "cell_type": "code",
   "execution_count": 7,
   "id": "4afe1087",
   "metadata": {
    "execution": {
     "iopub.execute_input": "2022-01-21T19:23:25.464065Z",
     "iopub.status.busy": "2022-01-21T19:23:25.463528Z",
     "iopub.status.idle": "2022-01-21T19:23:25.484309Z",
     "shell.execute_reply": "2022-01-21T19:23:25.483838Z",
     "shell.execute_reply.started": "2022-01-21T19:01:18.617727Z"
    },
    "papermill": {
     "duration": 0.057995,
     "end_time": "2022-01-21T19:23:25.484435",
     "exception": false,
     "start_time": "2022-01-21T19:23:25.426440",
     "status": "completed"
    },
    "tags": []
   },
   "outputs": [
    {
     "data": {
      "text/html": [
       "<div>\n",
       "<style scoped>\n",
       "    .dataframe tbody tr th:only-of-type {\n",
       "        vertical-align: middle;\n",
       "    }\n",
       "\n",
       "    .dataframe tbody tr th {\n",
       "        vertical-align: top;\n",
       "    }\n",
       "\n",
       "    .dataframe thead th {\n",
       "        text-align: right;\n",
       "    }\n",
       "</style>\n",
       "<table border=\"1\" class=\"dataframe\">\n",
       "  <thead>\n",
       "    <tr style=\"text-align: right;\">\n",
       "      <th></th>\n",
       "      <th>AtBat</th>\n",
       "      <th>Hits</th>\n",
       "      <th>HmRun</th>\n",
       "      <th>Runs</th>\n",
       "      <th>RBI</th>\n",
       "      <th>Walks</th>\n",
       "      <th>Years</th>\n",
       "      <th>CAtBat</th>\n",
       "      <th>CHits</th>\n",
       "      <th>CHmRun</th>\n",
       "      <th>CRuns</th>\n",
       "      <th>CRBI</th>\n",
       "      <th>CWalks</th>\n",
       "      <th>League</th>\n",
       "      <th>Division</th>\n",
       "      <th>PutOuts</th>\n",
       "      <th>Assists</th>\n",
       "      <th>Errors</th>\n",
       "      <th>Salary</th>\n",
       "      <th>NewLeague</th>\n",
       "    </tr>\n",
       "  </thead>\n",
       "  <tbody>\n",
       "    <tr>\n",
       "      <th>0</th>\n",
       "      <td>293</td>\n",
       "      <td>66</td>\n",
       "      <td>1</td>\n",
       "      <td>30</td>\n",
       "      <td>29</td>\n",
       "      <td>14</td>\n",
       "      <td>1</td>\n",
       "      <td>293</td>\n",
       "      <td>66</td>\n",
       "      <td>1</td>\n",
       "      <td>30</td>\n",
       "      <td>29</td>\n",
       "      <td>14</td>\n",
       "      <td>A</td>\n",
       "      <td>E</td>\n",
       "      <td>446</td>\n",
       "      <td>33</td>\n",
       "      <td>20</td>\n",
       "      <td>NaN</td>\n",
       "      <td>A</td>\n",
       "    </tr>\n",
       "    <tr>\n",
       "      <th>15</th>\n",
       "      <td>183</td>\n",
       "      <td>39</td>\n",
       "      <td>3</td>\n",
       "      <td>20</td>\n",
       "      <td>15</td>\n",
       "      <td>11</td>\n",
       "      <td>3</td>\n",
       "      <td>201</td>\n",
       "      <td>42</td>\n",
       "      <td>3</td>\n",
       "      <td>20</td>\n",
       "      <td>16</td>\n",
       "      <td>11</td>\n",
       "      <td>A</td>\n",
       "      <td>W</td>\n",
       "      <td>118</td>\n",
       "      <td>0</td>\n",
       "      <td>0</td>\n",
       "      <td>NaN</td>\n",
       "      <td>A</td>\n",
       "    </tr>\n",
       "    <tr>\n",
       "      <th>18</th>\n",
       "      <td>407</td>\n",
       "      <td>104</td>\n",
       "      <td>6</td>\n",
       "      <td>57</td>\n",
       "      <td>43</td>\n",
       "      <td>65</td>\n",
       "      <td>12</td>\n",
       "      <td>5233</td>\n",
       "      <td>1478</td>\n",
       "      <td>100</td>\n",
       "      <td>643</td>\n",
       "      <td>658</td>\n",
       "      <td>653</td>\n",
       "      <td>A</td>\n",
       "      <td>W</td>\n",
       "      <td>912</td>\n",
       "      <td>88</td>\n",
       "      <td>9</td>\n",
       "      <td>NaN</td>\n",
       "      <td>A</td>\n",
       "    </tr>\n",
       "    <tr>\n",
       "      <th>22</th>\n",
       "      <td>22</td>\n",
       "      <td>10</td>\n",
       "      <td>1</td>\n",
       "      <td>4</td>\n",
       "      <td>2</td>\n",
       "      <td>1</td>\n",
       "      <td>6</td>\n",
       "      <td>84</td>\n",
       "      <td>26</td>\n",
       "      <td>2</td>\n",
       "      <td>9</td>\n",
       "      <td>9</td>\n",
       "      <td>3</td>\n",
       "      <td>A</td>\n",
       "      <td>W</td>\n",
       "      <td>812</td>\n",
       "      <td>84</td>\n",
       "      <td>11</td>\n",
       "      <td>NaN</td>\n",
       "      <td>A</td>\n",
       "    </tr>\n",
       "    <tr>\n",
       "      <th>30</th>\n",
       "      <td>313</td>\n",
       "      <td>84</td>\n",
       "      <td>9</td>\n",
       "      <td>42</td>\n",
       "      <td>30</td>\n",
       "      <td>39</td>\n",
       "      <td>17</td>\n",
       "      <td>6890</td>\n",
       "      <td>1833</td>\n",
       "      <td>224</td>\n",
       "      <td>1033</td>\n",
       "      <td>864</td>\n",
       "      <td>1087</td>\n",
       "      <td>A</td>\n",
       "      <td>W</td>\n",
       "      <td>127</td>\n",
       "      <td>221</td>\n",
       "      <td>7</td>\n",
       "      <td>NaN</td>\n",
       "      <td>A</td>\n",
       "    </tr>\n",
       "  </tbody>\n",
       "</table>\n",
       "</div>"
      ],
      "text/plain": [
       "    AtBat  Hits  HmRun  Runs  RBI  Walks  Years  CAtBat  CHits  CHmRun  CRuns  \\\n",
       "0     293    66      1    30   29     14      1     293     66       1     30   \n",
       "15    183    39      3    20   15     11      3     201     42       3     20   \n",
       "18    407   104      6    57   43     65     12    5233   1478     100    643   \n",
       "22     22    10      1     4    2      1      6      84     26       2      9   \n",
       "30    313    84      9    42   30     39     17    6890   1833     224   1033   \n",
       "\n",
       "    CRBI  CWalks League Division  PutOuts  Assists  Errors  Salary NewLeague  \n",
       "0     29      14      A        E      446       33      20     NaN         A  \n",
       "15    16      11      A        W      118        0       0     NaN         A  \n",
       "18   658     653      A        W      912       88       9     NaN         A  \n",
       "22     9       3      A        W      812       84      11     NaN         A  \n",
       "30   864    1087      A        W      127      221       7     NaN         A  "
      ]
     },
     "execution_count": 7,
     "metadata": {},
     "output_type": "execute_result"
    }
   ],
   "source": [
    "# check the missing values\n",
    "df[df.Salary.isnull()==True].head()"
   ]
  },
  {
   "cell_type": "code",
   "execution_count": 8,
   "id": "a108ace5",
   "metadata": {
    "execution": {
     "iopub.execute_input": "2022-01-21T19:23:25.556964Z",
     "iopub.status.busy": "2022-01-21T19:23:25.556299Z",
     "iopub.status.idle": "2022-01-21T19:23:25.566710Z",
     "shell.execute_reply": "2022-01-21T19:23:25.567086Z",
     "shell.execute_reply.started": "2022-01-21T19:01:18.651018Z"
    },
    "papermill": {
     "duration": 0.047127,
     "end_time": "2022-01-21T19:23:25.567220",
     "exception": false,
     "start_time": "2022-01-21T19:23:25.520093",
     "status": "completed"
    },
    "tags": []
   },
   "outputs": [
    {
     "data": {
      "text/plain": [
       "AtBat        0\n",
       "Hits         0\n",
       "HmRun        0\n",
       "Runs         0\n",
       "RBI          0\n",
       "Walks        0\n",
       "Years        0\n",
       "CAtBat       0\n",
       "CHits        0\n",
       "CHmRun       0\n",
       "CRuns        0\n",
       "CRBI         0\n",
       "CWalks       0\n",
       "League       0\n",
       "Division     0\n",
       "PutOuts      0\n",
       "Assists      0\n",
       "Errors       0\n",
       "Salary       0\n",
       "NewLeague    0\n",
       "dtype: int64"
      ]
     },
     "execution_count": 8,
     "metadata": {},
     "output_type": "execute_result"
    }
   ],
   "source": [
    "# drop null values because they are what we need to predict(salary). Check again.\n",
    "df.dropna(inplace=True)\n",
    "df.isnull().sum()"
   ]
  },
  {
   "cell_type": "code",
   "execution_count": 9,
   "id": "515a8ddf",
   "metadata": {
    "execution": {
     "iopub.execute_input": "2022-01-21T19:23:25.639081Z",
     "iopub.status.busy": "2022-01-21T19:23:25.638384Z",
     "iopub.status.idle": "2022-01-21T19:23:25.688063Z",
     "shell.execute_reply": "2022-01-21T19:23:25.688488Z",
     "shell.execute_reply.started": "2022-01-21T19:01:18.669762Z"
    },
    "papermill": {
     "duration": 0.087649,
     "end_time": "2022-01-21T19:23:25.688639",
     "exception": false,
     "start_time": "2022-01-21T19:23:25.600990",
     "status": "completed"
    },
    "tags": []
   },
   "outputs": [
    {
     "data": {
      "text/html": [
       "<div>\n",
       "<style scoped>\n",
       "    .dataframe tbody tr th:only-of-type {\n",
       "        vertical-align: middle;\n",
       "    }\n",
       "\n",
       "    .dataframe tbody tr th {\n",
       "        vertical-align: top;\n",
       "    }\n",
       "\n",
       "    .dataframe thead th {\n",
       "        text-align: right;\n",
       "    }\n",
       "</style>\n",
       "<table border=\"1\" class=\"dataframe\">\n",
       "  <thead>\n",
       "    <tr style=\"text-align: right;\">\n",
       "      <th></th>\n",
       "      <th>count</th>\n",
       "      <th>mean</th>\n",
       "      <th>std</th>\n",
       "      <th>min</th>\n",
       "      <th>5%</th>\n",
       "      <th>25%</th>\n",
       "      <th>50%</th>\n",
       "      <th>75%</th>\n",
       "      <th>95%</th>\n",
       "      <th>99%</th>\n",
       "      <th>max</th>\n",
       "    </tr>\n",
       "  </thead>\n",
       "  <tbody>\n",
       "    <tr>\n",
       "      <th>AtBat</th>\n",
       "      <td>263.0</td>\n",
       "      <td>403.642586</td>\n",
       "      <td>147.307209</td>\n",
       "      <td>19.0</td>\n",
       "      <td>181.3</td>\n",
       "      <td>282.5</td>\n",
       "      <td>413.0</td>\n",
       "      <td>526.0</td>\n",
       "      <td>617.8</td>\n",
       "      <td>668.32000</td>\n",
       "      <td>687.0</td>\n",
       "    </tr>\n",
       "    <tr>\n",
       "      <th>Hits</th>\n",
       "      <td>263.0</td>\n",
       "      <td>107.828897</td>\n",
       "      <td>45.125326</td>\n",
       "      <td>1.0</td>\n",
       "      <td>42.1</td>\n",
       "      <td>71.5</td>\n",
       "      <td>103.0</td>\n",
       "      <td>141.5</td>\n",
       "      <td>177.9</td>\n",
       "      <td>211.76000</td>\n",
       "      <td>238.0</td>\n",
       "    </tr>\n",
       "    <tr>\n",
       "      <th>HmRun</th>\n",
       "      <td>263.0</td>\n",
       "      <td>11.619772</td>\n",
       "      <td>8.757108</td>\n",
       "      <td>0.0</td>\n",
       "      <td>1.0</td>\n",
       "      <td>5.0</td>\n",
       "      <td>9.0</td>\n",
       "      <td>18.0</td>\n",
       "      <td>29.0</td>\n",
       "      <td>33.00000</td>\n",
       "      <td>40.0</td>\n",
       "    </tr>\n",
       "    <tr>\n",
       "      <th>Runs</th>\n",
       "      <td>263.0</td>\n",
       "      <td>54.745247</td>\n",
       "      <td>25.539816</td>\n",
       "      <td>0.0</td>\n",
       "      <td>19.1</td>\n",
       "      <td>33.5</td>\n",
       "      <td>52.0</td>\n",
       "      <td>73.0</td>\n",
       "      <td>96.8</td>\n",
       "      <td>111.42000</td>\n",
       "      <td>130.0</td>\n",
       "    </tr>\n",
       "    <tr>\n",
       "      <th>RBI</th>\n",
       "      <td>263.0</td>\n",
       "      <td>51.486692</td>\n",
       "      <td>25.882714</td>\n",
       "      <td>0.0</td>\n",
       "      <td>18.0</td>\n",
       "      <td>30.0</td>\n",
       "      <td>47.0</td>\n",
       "      <td>71.0</td>\n",
       "      <td>99.8</td>\n",
       "      <td>114.14000</td>\n",
       "      <td>121.0</td>\n",
       "    </tr>\n",
       "    <tr>\n",
       "      <th>Walks</th>\n",
       "      <td>263.0</td>\n",
       "      <td>41.114068</td>\n",
       "      <td>21.718056</td>\n",
       "      <td>0.0</td>\n",
       "      <td>12.0</td>\n",
       "      <td>23.0</td>\n",
       "      <td>37.0</td>\n",
       "      <td>57.0</td>\n",
       "      <td>78.9</td>\n",
       "      <td>94.00000</td>\n",
       "      <td>105.0</td>\n",
       "    </tr>\n",
       "    <tr>\n",
       "      <th>Years</th>\n",
       "      <td>263.0</td>\n",
       "      <td>7.311787</td>\n",
       "      <td>4.793616</td>\n",
       "      <td>1.0</td>\n",
       "      <td>1.0</td>\n",
       "      <td>4.0</td>\n",
       "      <td>6.0</td>\n",
       "      <td>10.0</td>\n",
       "      <td>16.9</td>\n",
       "      <td>19.38000</td>\n",
       "      <td>24.0</td>\n",
       "    </tr>\n",
       "    <tr>\n",
       "      <th>CAtBat</th>\n",
       "      <td>263.0</td>\n",
       "      <td>2657.543726</td>\n",
       "      <td>2286.582929</td>\n",
       "      <td>19.0</td>\n",
       "      <td>279.9</td>\n",
       "      <td>842.5</td>\n",
       "      <td>1931.0</td>\n",
       "      <td>3890.5</td>\n",
       "      <td>7120.1</td>\n",
       "      <td>8732.34000</td>\n",
       "      <td>14053.0</td>\n",
       "    </tr>\n",
       "    <tr>\n",
       "      <th>CHits</th>\n",
       "      <td>263.0</td>\n",
       "      <td>722.186312</td>\n",
       "      <td>648.199644</td>\n",
       "      <td>4.0</td>\n",
       "      <td>68.0</td>\n",
       "      <td>212.0</td>\n",
       "      <td>516.0</td>\n",
       "      <td>1054.0</td>\n",
       "      <td>2023.5</td>\n",
       "      <td>2481.48000</td>\n",
       "      <td>4256.0</td>\n",
       "    </tr>\n",
       "    <tr>\n",
       "      <th>CHmRun</th>\n",
       "      <td>263.0</td>\n",
       "      <td>69.239544</td>\n",
       "      <td>82.197581</td>\n",
       "      <td>0.0</td>\n",
       "      <td>2.0</td>\n",
       "      <td>15.0</td>\n",
       "      <td>40.0</td>\n",
       "      <td>92.5</td>\n",
       "      <td>258.4</td>\n",
       "      <td>348.52000</td>\n",
       "      <td>548.0</td>\n",
       "    </tr>\n",
       "    <tr>\n",
       "      <th>CRuns</th>\n",
       "      <td>263.0</td>\n",
       "      <td>361.220532</td>\n",
       "      <td>331.198571</td>\n",
       "      <td>2.0</td>\n",
       "      <td>32.0</td>\n",
       "      <td>105.5</td>\n",
       "      <td>250.0</td>\n",
       "      <td>497.5</td>\n",
       "      <td>1040.6</td>\n",
       "      <td>1173.14000</td>\n",
       "      <td>2165.0</td>\n",
       "    </tr>\n",
       "    <tr>\n",
       "      <th>CRBI</th>\n",
       "      <td>263.0</td>\n",
       "      <td>330.418251</td>\n",
       "      <td>323.367668</td>\n",
       "      <td>3.0</td>\n",
       "      <td>29.2</td>\n",
       "      <td>95.0</td>\n",
       "      <td>230.0</td>\n",
       "      <td>424.5</td>\n",
       "      <td>1065.3</td>\n",
       "      <td>1304.70000</td>\n",
       "      <td>1659.0</td>\n",
       "    </tr>\n",
       "    <tr>\n",
       "      <th>CWalks</th>\n",
       "      <td>263.0</td>\n",
       "      <td>260.266160</td>\n",
       "      <td>264.055868</td>\n",
       "      <td>1.0</td>\n",
       "      <td>22.2</td>\n",
       "      <td>71.0</td>\n",
       "      <td>174.0</td>\n",
       "      <td>328.5</td>\n",
       "      <td>816.2</td>\n",
       "      <td>1165.30000</td>\n",
       "      <td>1566.0</td>\n",
       "    </tr>\n",
       "    <tr>\n",
       "      <th>PutOuts</th>\n",
       "      <td>263.0</td>\n",
       "      <td>290.711027</td>\n",
       "      <td>279.934575</td>\n",
       "      <td>0.0</td>\n",
       "      <td>37.4</td>\n",
       "      <td>113.5</td>\n",
       "      <td>224.0</td>\n",
       "      <td>322.5</td>\n",
       "      <td>936.3</td>\n",
       "      <td>1276.18000</td>\n",
       "      <td>1377.0</td>\n",
       "    </tr>\n",
       "    <tr>\n",
       "      <th>Assists</th>\n",
       "      <td>263.0</td>\n",
       "      <td>118.760456</td>\n",
       "      <td>145.080577</td>\n",
       "      <td>0.0</td>\n",
       "      <td>0.1</td>\n",
       "      <td>8.0</td>\n",
       "      <td>45.0</td>\n",
       "      <td>192.0</td>\n",
       "      <td>441.8</td>\n",
       "      <td>480.14000</td>\n",
       "      <td>492.0</td>\n",
       "    </tr>\n",
       "    <tr>\n",
       "      <th>Errors</th>\n",
       "      <td>263.0</td>\n",
       "      <td>8.593156</td>\n",
       "      <td>6.606574</td>\n",
       "      <td>0.0</td>\n",
       "      <td>0.1</td>\n",
       "      <td>3.0</td>\n",
       "      <td>7.0</td>\n",
       "      <td>13.0</td>\n",
       "      <td>21.9</td>\n",
       "      <td>26.00000</td>\n",
       "      <td>32.0</td>\n",
       "    </tr>\n",
       "    <tr>\n",
       "      <th>Salary</th>\n",
       "      <td>263.0</td>\n",
       "      <td>535.925882</td>\n",
       "      <td>451.118681</td>\n",
       "      <td>67.5</td>\n",
       "      <td>86.6</td>\n",
       "      <td>190.0</td>\n",
       "      <td>425.0</td>\n",
       "      <td>750.0</td>\n",
       "      <td>1346.0</td>\n",
       "      <td>2032.88654</td>\n",
       "      <td>2460.0</td>\n",
       "    </tr>\n",
       "  </tbody>\n",
       "</table>\n",
       "</div>"
      ],
      "text/plain": [
       "         count         mean          std   min     5%    25%     50%     75%  \\\n",
       "AtBat    263.0   403.642586   147.307209  19.0  181.3  282.5   413.0   526.0   \n",
       "Hits     263.0   107.828897    45.125326   1.0   42.1   71.5   103.0   141.5   \n",
       "HmRun    263.0    11.619772     8.757108   0.0    1.0    5.0     9.0    18.0   \n",
       "Runs     263.0    54.745247    25.539816   0.0   19.1   33.5    52.0    73.0   \n",
       "RBI      263.0    51.486692    25.882714   0.0   18.0   30.0    47.0    71.0   \n",
       "Walks    263.0    41.114068    21.718056   0.0   12.0   23.0    37.0    57.0   \n",
       "Years    263.0     7.311787     4.793616   1.0    1.0    4.0     6.0    10.0   \n",
       "CAtBat   263.0  2657.543726  2286.582929  19.0  279.9  842.5  1931.0  3890.5   \n",
       "CHits    263.0   722.186312   648.199644   4.0   68.0  212.0   516.0  1054.0   \n",
       "CHmRun   263.0    69.239544    82.197581   0.0    2.0   15.0    40.0    92.5   \n",
       "CRuns    263.0   361.220532   331.198571   2.0   32.0  105.5   250.0   497.5   \n",
       "CRBI     263.0   330.418251   323.367668   3.0   29.2   95.0   230.0   424.5   \n",
       "CWalks   263.0   260.266160   264.055868   1.0   22.2   71.0   174.0   328.5   \n",
       "PutOuts  263.0   290.711027   279.934575   0.0   37.4  113.5   224.0   322.5   \n",
       "Assists  263.0   118.760456   145.080577   0.0    0.1    8.0    45.0   192.0   \n",
       "Errors   263.0     8.593156     6.606574   0.0    0.1    3.0     7.0    13.0   \n",
       "Salary   263.0   535.925882   451.118681  67.5   86.6  190.0   425.0   750.0   \n",
       "\n",
       "            95%         99%      max  \n",
       "AtBat     617.8   668.32000    687.0  \n",
       "Hits      177.9   211.76000    238.0  \n",
       "HmRun      29.0    33.00000     40.0  \n",
       "Runs       96.8   111.42000    130.0  \n",
       "RBI        99.8   114.14000    121.0  \n",
       "Walks      78.9    94.00000    105.0  \n",
       "Years      16.9    19.38000     24.0  \n",
       "CAtBat   7120.1  8732.34000  14053.0  \n",
       "CHits    2023.5  2481.48000   4256.0  \n",
       "CHmRun    258.4   348.52000    548.0  \n",
       "CRuns    1040.6  1173.14000   2165.0  \n",
       "CRBI     1065.3  1304.70000   1659.0  \n",
       "CWalks    816.2  1165.30000   1566.0  \n",
       "PutOuts   936.3  1276.18000   1377.0  \n",
       "Assists   441.8   480.14000    492.0  \n",
       "Errors     21.9    26.00000     32.0  \n",
       "Salary   1346.0  2032.88654   2460.0  "
      ]
     },
     "execution_count": 9,
     "metadata": {},
     "output_type": "execute_result"
    }
   ],
   "source": [
    "# Descriptive Analysis\n",
    "df.describe([0.05,0.25,0.50,0.75,0.95,0.99]).T"
   ]
  },
  {
   "cell_type": "code",
   "execution_count": 10,
   "id": "5730c1e6",
   "metadata": {
    "execution": {
     "iopub.execute_input": "2022-01-21T19:23:25.765958Z",
     "iopub.status.busy": "2022-01-21T19:23:25.765416Z",
     "iopub.status.idle": "2022-01-21T19:23:25.911696Z",
     "shell.execute_reply": "2022-01-21T19:23:25.912254Z",
     "shell.execute_reply.started": "2022-01-21T19:01:18.748578Z"
    },
    "papermill": {
     "duration": 0.187967,
     "end_time": "2022-01-21T19:23:25.912408",
     "exception": false,
     "start_time": "2022-01-21T19:23:25.724441",
     "status": "completed"
    },
    "tags": []
   },
   "outputs": [
    {
     "data": {
      "image/png": "[encoded data removed]",
      "text/plain": [
       "<Figure size 432x288 with 1 Axes>"
      ]
     },
     "metadata": {
      "needs_background": "light"
     },
     "output_type": "display_data"
    }
   ],
   "source": [
    "# Outliers\n",
    "sns.boxplot(x = df[\"Salary\"])\n",
    "plt.show()"
   ]
  },
  {
   "cell_type": "code",
   "execution_count": 11,
   "id": "aaf89c07",
   "metadata": {
    "execution": {
     "iopub.execute_input": "2022-01-21T19:23:25.986298Z",
     "iopub.status.busy": "2022-01-21T19:23:25.985741Z",
     "iopub.status.idle": "2022-01-21T19:23:25.988191Z",
     "shell.execute_reply": "2022-01-21T19:23:25.988607Z",
     "shell.execute_reply.started": "2022-01-21T19:01:18.870336Z"
    },
    "papermill": {
     "duration": 0.042269,
     "end_time": "2022-01-21T19:23:25.988758",
     "exception": false,
     "start_time": "2022-01-21T19:23:25.946489",
     "status": "completed"
    },
    "tags": []
   },
   "outputs": [],
   "source": [
    "# determine the threshold values for outliers\n",
    "\n",
    "def outlier_thresholds(dataframe, col_name):\n",
    "    quartile1 = dataframe[col_name].quantile(0.05)\n",
    "    quartile3 = dataframe[col_name].quantile(0.95)\n",
    "    interquantile_range = quartile3 - quartile1\n",
    "    up_limit = quartile3 + 1.5 * interquantile_range\n",
    "    low_limit = quartile1 - 1.5 * interquantile_range\n",
    "    return low_limit, up_limit"
   ]
  },
  {
   "cell_type": "code",
   "execution_count": 12,
   "id": "8193f7be",
   "metadata": {
    "execution": {
     "iopub.execute_input": "2022-01-21T19:23:26.064403Z",
     "iopub.status.busy": "2022-01-21T19:23:26.063842Z",
     "iopub.status.idle": "2022-01-21T19:23:26.069921Z",
     "shell.execute_reply": "2022-01-21T19:23:26.070397Z",
     "shell.execute_reply.started": "2022-01-21T19:01:18.880872Z"
    },
    "papermill": {
     "duration": 0.045349,
     "end_time": "2022-01-21T19:23:26.070546",
     "exception": false,
     "start_time": "2022-01-21T19:23:26.025197",
     "status": "completed"
    },
    "tags": []
   },
   "outputs": [
    {
     "name": "stdout",
     "output_type": "stream",
     "text": [
      "Low Limit : -1802.4999999999989  Up Limit : 3235.0999999999976\n"
     ]
    }
   ],
   "source": [
    "# limits for salary\n",
    "\n",
    "low_limit,up_limit = outlier_thresholds(df, \"Salary\")\n",
    "print(\"Low Limit : {0}  Up Limit : {1}\".format(low_limit,up_limit))"
   ]
  },
  {
   "cell_type": "code",
   "execution_count": 13,
   "id": "875a9fce",
   "metadata": {
    "execution": {
     "iopub.execute_input": "2022-01-21T19:23:26.144071Z",
     "iopub.status.busy": "2022-01-21T19:23:26.143520Z",
     "iopub.status.idle": "2022-01-21T19:23:26.147882Z",
     "shell.execute_reply": "2022-01-21T19:23:26.148384Z",
     "shell.execute_reply.started": "2022-01-21T19:01:18.905633Z"
    },
    "papermill": {
     "duration": 0.042842,
     "end_time": "2022-01-21T19:23:26.148529",
     "exception": false,
     "start_time": "2022-01-21T19:23:26.105687",
     "status": "completed"
    },
    "tags": []
   },
   "outputs": [],
   "source": [
    "# replace outliers with thresholds\n",
    "\n",
    "def replace_with_thresholds(dataframe, col_name):\n",
    "    low_limit, up_limit = outlier_thresholds(dataframe, col_name)\n",
    "    if low_limit > 0:\n",
    "        dataframe.loc[(dataframe[col_name] < low_limit), col_name] = low_limit\n",
    "        dataframe.loc[(dataframe[col_name] > up_limit), col_name] = up_limit\n",
    "    else:\n",
    "        dataframe.loc[(dataframe[col_name] > up_limit), col_name] = up_limit"
   ]
  },
  {
   "cell_type": "code",
   "execution_count": 14,
   "id": "2fc54a57",
   "metadata": {
    "execution": {
     "iopub.execute_input": "2022-01-21T19:23:26.223530Z",
     "iopub.status.busy": "2022-01-21T19:23:26.222994Z",
     "iopub.status.idle": "2022-01-21T19:23:26.227937Z",
     "shell.execute_reply": "2022-01-21T19:23:26.228293Z",
     "shell.execute_reply.started": "2022-01-21T19:01:18.915982Z"
    },
    "papermill": {
     "duration": 0.043236,
     "end_time": "2022-01-21T19:23:26.228442",
     "exception": false,
     "start_time": "2022-01-21T19:23:26.185206",
     "status": "completed"
    },
    "tags": []
   },
   "outputs": [
    {
     "name": "stdout",
     "output_type": "stream",
     "text": [
      "\n",
      " ['AtBat', 'Hits', 'HmRun', 'Runs', 'RBI', 'Walks', 'Years', 'CAtBat', 'CHits', 'CHmRun', 'CRuns', 'CRBI', 'CWalks', 'PutOuts', 'Assists', 'Errors', 'Salary']\n"
     ]
    }
   ],
   "source": [
    "# numerical variables\n",
    "num_cols = [col for col in df.columns if df[col].dtypes != \"O\"]\n",
    "print('\\n',num_cols)"
   ]
  },
  {
   "cell_type": "code",
   "execution_count": 15,
   "id": "45b63208",
   "metadata": {
    "execution": {
     "iopub.execute_input": "2022-01-21T19:23:26.312004Z",
     "iopub.status.busy": "2022-01-21T19:23:26.310082Z",
     "iopub.status.idle": "2022-01-21T19:23:26.439368Z",
     "shell.execute_reply": "2022-01-21T19:23:26.438812Z",
     "shell.execute_reply.started": "2022-01-21T19:01:18.932855Z"
    },
    "papermill": {
     "duration": 0.17509,
     "end_time": "2022-01-21T19:23:26.439516",
     "exception": false,
     "start_time": "2022-01-21T19:23:26.264426",
     "status": "completed"
    },
    "tags": []
   },
   "outputs": [
    {
     "data": {
      "image/png": "[encoded data removed]",
      "text/plain": [
       "<Figure size 432x288 with 1 Axes>"
      ]
     },
     "metadata": {
      "needs_background": "light"
     },
     "output_type": "display_data"
    }
   ],
   "source": [
    "#Outlier analysis for numerical variables\n",
    "for col in num_cols:\n",
    "    replace_with_thresholds(df, col)\n",
    "    \n",
    "# Outliers in the dependent variable have been eliminated\n",
    "sns.boxplot(x = df[\"Salary\"])\n",
    "plt.show()"
   ]
  },
  {
   "cell_type": "code",
   "execution_count": 16,
   "id": "3af54cd8",
   "metadata": {
    "execution": {
     "iopub.execute_input": "2022-01-21T19:23:26.528096Z",
     "iopub.status.busy": "2022-01-21T19:23:26.527542Z",
     "iopub.status.idle": "2022-01-21T19:23:26.537868Z",
     "shell.execute_reply": "2022-01-21T19:23:26.538313Z",
     "shell.execute_reply.started": "2022-01-21T19:01:19.135459Z"
    },
    "papermill": {
     "duration": 0.051382,
     "end_time": "2022-01-21T19:23:26.538462",
     "exception": false,
     "start_time": "2022-01-21T19:23:26.487080",
     "status": "completed"
    },
    "tags": []
   },
   "outputs": [
    {
     "data": {
      "text/plain": [
       "False"
      ]
     },
     "execution_count": 16,
     "metadata": {},
     "output_type": "execute_result"
    }
   ],
   "source": [
    "# check_outliers for salary\n",
    "\n",
    "def check_outlier(dataframe, col_name):\n",
    "    low_limit, up_limit = outlier_thresholds(dataframe, col_name)\n",
    "    if dataframe[(dataframe[col_name] > up_limit) | (dataframe[col_name] < low_limit)].any(axis=None):\n",
    "        return True\n",
    "    else:\n",
    "        return False\n",
    "\n",
    "check_outlier(df, \"Salary\")"
   ]
  },
  {
   "cell_type": "code",
   "execution_count": 17,
   "id": "3e801b5d",
   "metadata": {
    "execution": {
     "iopub.execute_input": "2022-01-21T19:23:26.617725Z",
     "iopub.status.busy": "2022-01-21T19:23:26.613338Z",
     "iopub.status.idle": "2022-01-21T19:23:26.638483Z",
     "shell.execute_reply": "2022-01-21T19:23:26.638961Z",
     "shell.execute_reply.started": "2022-01-21T19:01:19.149930Z"
    },
    "papermill": {
     "duration": 0.064128,
     "end_time": "2022-01-21T19:23:26.639122",
     "exception": false,
     "start_time": "2022-01-21T19:23:26.574994",
     "status": "completed"
    },
    "tags": []
   },
   "outputs": [
    {
     "data": {
      "text/html": [
       "<div>\n",
       "<style scoped>\n",
       "    .dataframe tbody tr th:only-of-type {\n",
       "        vertical-align: middle;\n",
       "    }\n",
       "\n",
       "    .dataframe tbody tr th {\n",
       "        vertical-align: top;\n",
       "    }\n",
       "\n",
       "    .dataframe thead th {\n",
       "        text-align: right;\n",
       "    }\n",
       "</style>\n",
       "<table border=\"1\" class=\"dataframe\">\n",
       "  <thead>\n",
       "    <tr style=\"text-align: right;\">\n",
       "      <th></th>\n",
       "      <th>AtBat</th>\n",
       "      <th>Hits</th>\n",
       "      <th>HmRun</th>\n",
       "      <th>Runs</th>\n",
       "      <th>RBI</th>\n",
       "      <th>Walks</th>\n",
       "      <th>Years</th>\n",
       "      <th>CAtBat</th>\n",
       "      <th>CHits</th>\n",
       "      <th>CHmRun</th>\n",
       "      <th>CRuns</th>\n",
       "      <th>CRBI</th>\n",
       "      <th>CWalks</th>\n",
       "      <th>PutOuts</th>\n",
       "      <th>Assists</th>\n",
       "      <th>Errors</th>\n",
       "      <th>Salary</th>\n",
       "    </tr>\n",
       "  </thead>\n",
       "  <tbody>\n",
       "    <tr>\n",
       "      <th>AtBat</th>\n",
       "      <td>1.000000</td>\n",
       "      <td>0.963969</td>\n",
       "      <td>0.555102</td>\n",
       "      <td>0.899829</td>\n",
       "      <td>0.796015</td>\n",
       "      <td>0.624448</td>\n",
       "      <td>0.012725</td>\n",
       "      <td>0.207166</td>\n",
       "      <td>0.225341</td>\n",
       "      <td>0.212422</td>\n",
       "      <td>0.237278</td>\n",
       "      <td>0.221393</td>\n",
       "      <td>0.132926</td>\n",
       "      <td>0.309607</td>\n",
       "      <td>0.342117</td>\n",
       "      <td>0.325577</td>\n",
       "      <td>0.394771</td>\n",
       "    </tr>\n",
       "    <tr>\n",
       "      <th>Hits</th>\n",
       "      <td>0.963969</td>\n",
       "      <td>1.000000</td>\n",
       "      <td>0.530627</td>\n",
       "      <td>0.910630</td>\n",
       "      <td>0.788478</td>\n",
       "      <td>0.587311</td>\n",
       "      <td>0.018598</td>\n",
       "      <td>0.206678</td>\n",
       "      <td>0.235606</td>\n",
       "      <td>0.189364</td>\n",
       "      <td>0.238896</td>\n",
       "      <td>0.219384</td>\n",
       "      <td>0.122971</td>\n",
       "      <td>0.299688</td>\n",
       "      <td>0.303975</td>\n",
       "      <td>0.279876</td>\n",
       "      <td>0.438675</td>\n",
       "    </tr>\n",
       "    <tr>\n",
       "      <th>HmRun</th>\n",
       "      <td>0.555102</td>\n",
       "      <td>0.530627</td>\n",
       "      <td>1.000000</td>\n",
       "      <td>0.631076</td>\n",
       "      <td>0.849107</td>\n",
       "      <td>0.440454</td>\n",
       "      <td>0.113488</td>\n",
       "      <td>0.217464</td>\n",
       "      <td>0.217496</td>\n",
       "      <td>0.492526</td>\n",
       "      <td>0.258347</td>\n",
       "      <td>0.349858</td>\n",
       "      <td>0.227183</td>\n",
       "      <td>0.250931</td>\n",
       "      <td>-0.161602</td>\n",
       "      <td>-0.009743</td>\n",
       "      <td>0.343028</td>\n",
       "    </tr>\n",
       "    <tr>\n",
       "      <th>Runs</th>\n",
       "      <td>0.899829</td>\n",
       "      <td>0.910630</td>\n",
       "      <td>0.631076</td>\n",
       "      <td>1.000000</td>\n",
       "      <td>0.778692</td>\n",
       "      <td>0.697015</td>\n",
       "      <td>-0.011975</td>\n",
       "      <td>0.171811</td>\n",
       "      <td>0.191327</td>\n",
       "      <td>0.229701</td>\n",
       "      <td>0.237831</td>\n",
       "      <td>0.202335</td>\n",
       "      <td>0.163700</td>\n",
       "      <td>0.271160</td>\n",
       "      <td>0.179258</td>\n",
       "      <td>0.192609</td>\n",
       "      <td>0.419859</td>\n",
       "    </tr>\n",
       "    <tr>\n",
       "      <th>RBI</th>\n",
       "      <td>0.796015</td>\n",
       "      <td>0.788478</td>\n",
       "      <td>0.849107</td>\n",
       "      <td>0.778692</td>\n",
       "      <td>1.000000</td>\n",
       "      <td>0.569505</td>\n",
       "      <td>0.129668</td>\n",
       "      <td>0.278126</td>\n",
       "      <td>0.292137</td>\n",
       "      <td>0.442190</td>\n",
       "      <td>0.307226</td>\n",
       "      <td>0.387777</td>\n",
       "      <td>0.233619</td>\n",
       "      <td>0.312065</td>\n",
       "      <td>0.062902</td>\n",
       "      <td>0.150155</td>\n",
       "      <td>0.449457</td>\n",
       "    </tr>\n",
       "    <tr>\n",
       "      <th>Walks</th>\n",
       "      <td>0.624448</td>\n",
       "      <td>0.587311</td>\n",
       "      <td>0.440454</td>\n",
       "      <td>0.697015</td>\n",
       "      <td>0.569505</td>\n",
       "      <td>1.000000</td>\n",
       "      <td>0.134793</td>\n",
       "      <td>0.269450</td>\n",
       "      <td>0.270795</td>\n",
       "      <td>0.349582</td>\n",
       "      <td>0.332977</td>\n",
       "      <td>0.312697</td>\n",
       "      <td>0.429140</td>\n",
       "      <td>0.280855</td>\n",
       "      <td>0.102523</td>\n",
       "      <td>0.081937</td>\n",
       "      <td>0.443867</td>\n",
       "    </tr>\n",
       "    <tr>\n",
       "      <th>Years</th>\n",
       "      <td>0.012725</td>\n",
       "      <td>0.018598</td>\n",
       "      <td>0.113488</td>\n",
       "      <td>-0.011975</td>\n",
       "      <td>0.129668</td>\n",
       "      <td>0.134793</td>\n",
       "      <td>1.000000</td>\n",
       "      <td>0.915681</td>\n",
       "      <td>0.897844</td>\n",
       "      <td>0.722371</td>\n",
       "      <td>0.876649</td>\n",
       "      <td>0.863809</td>\n",
       "      <td>0.837524</td>\n",
       "      <td>-0.020019</td>\n",
       "      <td>-0.085118</td>\n",
       "      <td>-0.156512</td>\n",
       "      <td>0.400657</td>\n",
       "    </tr>\n",
       "    <tr>\n",
       "      <th>CAtBat</th>\n",
       "      <td>0.207166</td>\n",
       "      <td>0.206678</td>\n",
       "      <td>0.217464</td>\n",
       "      <td>0.171811</td>\n",
       "      <td>0.278126</td>\n",
       "      <td>0.269450</td>\n",
       "      <td>0.915681</td>\n",
       "      <td>1.000000</td>\n",
       "      <td>0.995057</td>\n",
       "      <td>0.801676</td>\n",
       "      <td>0.982747</td>\n",
       "      <td>0.950730</td>\n",
       "      <td>0.906712</td>\n",
       "      <td>0.053393</td>\n",
       "      <td>-0.007897</td>\n",
       "      <td>-0.070478</td>\n",
       "      <td>0.526135</td>\n",
       "    </tr>\n",
       "    <tr>\n",
       "      <th>CHits</th>\n",
       "      <td>0.225341</td>\n",
       "      <td>0.235606</td>\n",
       "      <td>0.217496</td>\n",
       "      <td>0.191327</td>\n",
       "      <td>0.292137</td>\n",
       "      <td>0.270795</td>\n",
       "      <td>0.897844</td>\n",
       "      <td>0.995057</td>\n",
       "      <td>1.000000</td>\n",
       "      <td>0.786652</td>\n",
       "      <td>0.984542</td>\n",
       "      <td>0.946797</td>\n",
       "      <td>0.890718</td>\n",
       "      <td>0.067348</td>\n",
       "      <td>-0.013144</td>\n",
       "      <td>-0.068036</td>\n",
       "      <td>0.548910</td>\n",
       "    </tr>\n",
       "    <tr>\n",
       "      <th>CHmRun</th>\n",
       "      <td>0.212422</td>\n",
       "      <td>0.189364</td>\n",
       "      <td>0.492526</td>\n",
       "      <td>0.229701</td>\n",
       "      <td>0.442190</td>\n",
       "      <td>0.349582</td>\n",
       "      <td>0.722371</td>\n",
       "      <td>0.801676</td>\n",
       "      <td>0.786652</td>\n",
       "      <td>1.000000</td>\n",
       "      <td>0.825625</td>\n",
       "      <td>0.927903</td>\n",
       "      <td>0.810878</td>\n",
       "      <td>0.093822</td>\n",
       "      <td>-0.188886</td>\n",
       "      <td>-0.165369</td>\n",
       "      <td>0.524931</td>\n",
       "    </tr>\n",
       "    <tr>\n",
       "      <th>CRuns</th>\n",
       "      <td>0.237278</td>\n",
       "      <td>0.238896</td>\n",
       "      <td>0.258347</td>\n",
       "      <td>0.237831</td>\n",
       "      <td>0.307226</td>\n",
       "      <td>0.332977</td>\n",
       "      <td>0.876649</td>\n",
       "      <td>0.982747</td>\n",
       "      <td>0.984542</td>\n",
       "      <td>0.825625</td>\n",
       "      <td>1.000000</td>\n",
       "      <td>0.945677</td>\n",
       "      <td>0.927768</td>\n",
       "      <td>0.059087</td>\n",
       "      <td>-0.038895</td>\n",
       "      <td>-0.094081</td>\n",
       "      <td>0.562678</td>\n",
       "    </tr>\n",
       "    <tr>\n",
       "      <th>CRBI</th>\n",
       "      <td>0.221393</td>\n",
       "      <td>0.219384</td>\n",
       "      <td>0.349858</td>\n",
       "      <td>0.202335</td>\n",
       "      <td>0.387777</td>\n",
       "      <td>0.312697</td>\n",
       "      <td>0.863809</td>\n",
       "      <td>0.950730</td>\n",
       "      <td>0.946797</td>\n",
       "      <td>0.927903</td>\n",
       "      <td>0.945677</td>\n",
       "      <td>1.000000</td>\n",
       "      <td>0.889137</td>\n",
       "      <td>0.095375</td>\n",
       "      <td>-0.096559</td>\n",
       "      <td>-0.115316</td>\n",
       "      <td>0.566966</td>\n",
       "    </tr>\n",
       "    <tr>\n",
       "      <th>CWalks</th>\n",
       "      <td>0.132926</td>\n",
       "      <td>0.122971</td>\n",
       "      <td>0.227183</td>\n",
       "      <td>0.163700</td>\n",
       "      <td>0.233619</td>\n",
       "      <td>0.429140</td>\n",
       "      <td>0.837524</td>\n",
       "      <td>0.906712</td>\n",
       "      <td>0.890718</td>\n",
       "      <td>0.810878</td>\n",
       "      <td>0.927768</td>\n",
       "      <td>0.889137</td>\n",
       "      <td>1.000000</td>\n",
       "      <td>0.058160</td>\n",
       "      <td>-0.066243</td>\n",
       "      <td>-0.129936</td>\n",
       "      <td>0.489822</td>\n",
       "    </tr>\n",
       "    <tr>\n",
       "      <th>PutOuts</th>\n",
       "      <td>0.309607</td>\n",
       "      <td>0.299688</td>\n",
       "      <td>0.250931</td>\n",
       "      <td>0.271160</td>\n",
       "      <td>0.312065</td>\n",
       "      <td>0.280855</td>\n",
       "      <td>-0.020019</td>\n",
       "      <td>0.053393</td>\n",
       "      <td>0.067348</td>\n",
       "      <td>0.093822</td>\n",
       "      <td>0.059087</td>\n",
       "      <td>0.095375</td>\n",
       "      <td>0.058160</td>\n",
       "      <td>1.000000</td>\n",
       "      <td>-0.043390</td>\n",
       "      <td>0.075306</td>\n",
       "      <td>0.300480</td>\n",
       "    </tr>\n",
       "    <tr>\n",
       "      <th>Assists</th>\n",
       "      <td>0.342117</td>\n",
       "      <td>0.303975</td>\n",
       "      <td>-0.161602</td>\n",
       "      <td>0.179258</td>\n",
       "      <td>0.062902</td>\n",
       "      <td>0.102523</td>\n",
       "      <td>-0.085118</td>\n",
       "      <td>-0.007897</td>\n",
       "      <td>-0.013144</td>\n",
       "      <td>-0.188886</td>\n",
       "      <td>-0.038895</td>\n",
       "      <td>-0.096559</td>\n",
       "      <td>-0.066243</td>\n",
       "      <td>-0.043390</td>\n",
       "      <td>1.000000</td>\n",
       "      <td>0.703505</td>\n",
       "      <td>0.025436</td>\n",
       "    </tr>\n",
       "    <tr>\n",
       "      <th>Errors</th>\n",
       "      <td>0.325577</td>\n",
       "      <td>0.279876</td>\n",
       "      <td>-0.009743</td>\n",
       "      <td>0.192609</td>\n",
       "      <td>0.150155</td>\n",
       "      <td>0.081937</td>\n",
       "      <td>-0.156512</td>\n",
       "      <td>-0.070478</td>\n",
       "      <td>-0.068036</td>\n",
       "      <td>-0.165369</td>\n",
       "      <td>-0.094081</td>\n",
       "      <td>-0.115316</td>\n",
       "      <td>-0.129936</td>\n",
       "      <td>0.075306</td>\n",
       "      <td>0.703505</td>\n",
       "      <td>1.000000</td>\n",
       "      <td>-0.005401</td>\n",
       "    </tr>\n",
       "    <tr>\n",
       "      <th>Salary</th>\n",
       "      <td>0.394771</td>\n",
       "      <td>0.438675</td>\n",
       "      <td>0.343028</td>\n",
       "      <td>0.419859</td>\n",
       "      <td>0.449457</td>\n",
       "      <td>0.443867</td>\n",
       "      <td>0.400657</td>\n",
       "      <td>0.526135</td>\n",
       "      <td>0.548910</td>\n",
       "      <td>0.524931</td>\n",
       "      <td>0.562678</td>\n",
       "      <td>0.566966</td>\n",
       "      <td>0.489822</td>\n",
       "      <td>0.300480</td>\n",
       "      <td>0.025436</td>\n",
       "      <td>-0.005401</td>\n",
       "      <td>1.000000</td>\n",
       "    </tr>\n",
       "  </tbody>\n",
       "</table>\n",
       "</div>"
      ],
      "text/plain": [
       "            AtBat      Hits     HmRun      Runs       RBI     Walks     Years  \\\n",
       "AtBat    1.000000  0.963969  0.555102  0.899829  0.796015  0.624448  0.012725   \n",
       "Hits     0.963969  1.000000  0.530627  0.910630  0.788478  0.587311  0.018598   \n",
       "HmRun    0.555102  0.530627  1.000000  0.631076  0.849107  0.440454  0.113488   \n",
       "Runs     0.899829  0.910630  0.631076  1.000000  0.778692  0.697015 -0.011975   \n",
       "RBI      0.796015  0.788478  0.849107  0.778692  1.000000  0.569505  0.129668   \n",
       "Walks    0.624448  0.587311  0.440454  0.697015  0.569505  1.000000  0.134793   \n",
       "Years    0.012725  0.018598  0.113488 -0.011975  0.129668  0.134793  1.000000   \n",
       "CAtBat   0.207166  0.206678  0.217464  0.171811  0.278126  0.269450  0.915681   \n",
       "CHits    0.225341  0.235606  0.217496  0.191327  0.292137  0.270795  0.897844   \n",
       "CHmRun   0.212422  0.189364  0.492526  0.229701  0.442190  0.349582  0.722371   \n",
       "CRuns    0.237278  0.238896  0.258347  0.237831  0.307226  0.332977  0.876649   \n",
       "CRBI     0.221393  0.219384  0.349858  0.202335  0.387777  0.312697  0.863809   \n",
       "CWalks   0.132926  0.122971  0.227183  0.163700  0.233619  0.429140  0.837524   \n",
       "PutOuts  0.309607  0.299688  0.250931  0.271160  0.312065  0.280855 -0.020019   \n",
       "Assists  0.342117  0.303975 -0.161602  0.179258  0.062902  0.102523 -0.085118   \n",
       "Errors   0.325577  0.279876 -0.009743  0.192609  0.150155  0.081937 -0.156512   \n",
       "Salary   0.394771  0.438675  0.343028  0.419859  0.449457  0.443867  0.400657   \n",
       "\n",
       "           CAtBat     CHits    CHmRun     CRuns      CRBI    CWalks   PutOuts  \\\n",
       "AtBat    0.207166  0.225341  0.212422  0.237278  0.221393  0.132926  0.309607   \n",
       "Hits     0.206678  0.235606  0.189364  0.238896  0.219384  0.122971  0.299688   \n",
       "HmRun    0.217464  0.217496  0.492526  0.258347  0.349858  0.227183  0.250931   \n",
       "Runs     0.171811  0.191327  0.229701  0.237831  0.202335  0.163700  0.271160   \n",
       "RBI      0.278126  0.292137  0.442190  0.307226  0.387777  0.233619  0.312065   \n",
       "Walks    0.269450  0.270795  0.349582  0.332977  0.312697  0.429140  0.280855   \n",
       "Years    0.915681  0.897844  0.722371  0.876649  0.863809  0.837524 -0.020019   \n",
       "CAtBat   1.000000  0.995057  0.801676  0.982747  0.950730  0.906712  0.053393   \n",
       "CHits    0.995057  1.000000  0.786652  0.984542  0.946797  0.890718  0.067348   \n",
       "CHmRun   0.801676  0.786652  1.000000  0.825625  0.927903  0.810878  0.093822   \n",
       "CRuns    0.982747  0.984542  0.825625  1.000000  0.945677  0.927768  0.059087   \n",
       "CRBI     0.950730  0.946797  0.927903  0.945677  1.000000  0.889137  0.095375   \n",
       "CWalks   0.906712  0.890718  0.810878  0.927768  0.889137  1.000000  0.058160   \n",
       "PutOuts  0.053393  0.067348  0.093822  0.059087  0.095375  0.058160  1.000000   \n",
       "Assists -0.007897 -0.013144 -0.188886 -0.038895 -0.096559 -0.066243 -0.043390   \n",
       "Errors  -0.070478 -0.068036 -0.165369 -0.094081 -0.115316 -0.129936  0.075306   \n",
       "Salary   0.526135  0.548910  0.524931  0.562678  0.566966  0.489822  0.300480   \n",
       "\n",
       "          Assists    Errors    Salary  \n",
       "AtBat    0.342117  0.325577  0.394771  \n",
       "Hits     0.303975  0.279876  0.438675  \n",
       "HmRun   -0.161602 -0.009743  0.343028  \n",
       "Runs     0.179258  0.192609  0.419859  \n",
       "RBI      0.062902  0.150155  0.449457  \n",
       "Walks    0.102523  0.081937  0.443867  \n",
       "Years   -0.085118 -0.156512  0.400657  \n",
       "CAtBat  -0.007897 -0.070478  0.526135  \n",
       "CHits   -0.013144 -0.068036  0.548910  \n",
       "CHmRun  -0.188886 -0.165369  0.524931  \n",
       "CRuns   -0.038895 -0.094081  0.562678  \n",
       "CRBI    -0.096559 -0.115316  0.566966  \n",
       "CWalks  -0.066243 -0.129936  0.489822  \n",
       "PutOuts -0.043390  0.075306  0.300480  \n",
       "Assists  1.000000  0.703505  0.025436  \n",
       "Errors   0.703505  1.000000 -0.005401  \n",
       "Salary   0.025436 -0.005401  1.000000  "
      ]
     },
     "execution_count": 17,
     "metadata": {},
     "output_type": "execute_result"
    }
   ],
   "source": [
    "# correlation analysis\n",
    "df.corr(method=\"pearson\")"
   ]
  },
  {
   "cell_type": "code",
   "execution_count": 18,
   "id": "9c70a99a",
   "metadata": {
    "execution": {
     "iopub.execute_input": "2022-01-21T19:23:26.718286Z",
     "iopub.status.busy": "2022-01-21T19:23:26.717773Z",
     "iopub.status.idle": "2022-01-21T19:23:28.053842Z",
     "shell.execute_reply": "2022-01-21T19:23:28.054248Z",
     "shell.execute_reply.started": "2022-01-21T19:01:19.188143Z"
    },
    "papermill": {
     "duration": 1.378332,
     "end_time": "2022-01-21T19:23:28.054397",
     "exception": false,
     "start_time": "2022-01-21T19:23:26.676065",
     "status": "completed"
    },
    "tags": []
   },
   "outputs": [
    {
     "data": {
      "image/png": "[encoded data removed]",
      "text/plain": [
       "<Figure size 1440x720 with 2 Axes>"
      ]
     },
     "metadata": {
      "needs_background": "light"
     },
     "output_type": "display_data"
    }
   ],
   "source": [
    "# correlation analysis before feature engineering\n",
    "\n",
    "plt.figure(figsize=(20,10))\n",
    "sns.heatmap(df.corr(),annot=True );"
   ]
  },
  {
   "cell_type": "code",
   "execution_count": 19,
   "id": "88ea79f7",
   "metadata": {
    "execution": {
     "iopub.execute_input": "2022-01-21T19:23:28.141541Z",
     "iopub.status.busy": "2022-01-21T19:23:28.141047Z",
     "iopub.status.idle": "2022-01-21T19:23:28.147710Z",
     "shell.execute_reply": "2022-01-21T19:23:28.148161Z",
     "shell.execute_reply.started": "2022-01-21T19:01:21.059750Z"
    },
    "papermill": {
     "duration": 0.052016,
     "end_time": "2022-01-21T19:23:28.148305",
     "exception": false,
     "start_time": "2022-01-21T19:23:28.096289",
     "status": "completed"
    },
    "tags": []
   },
   "outputs": [],
   "source": [
    "def grab_col_names(dataframe, cat_th=10, car_th=20):    \n",
    "    cat_cols = [col for col in dataframe.columns if dataframe[col].dtypes == \"O\"]\n",
    "    num_but_cat = [col for col in dataframe.columns if dataframe[col].nunique() < cat_th and\n",
    "                   dataframe[col].dtypes != \"O\"]\n",
    "    cat_but_car = [col for col in dataframe.columns if dataframe[col].nunique() > car_th and\n",
    "                   dataframe[col].dtypes == \"O\"]\n",
    "    cat_cols = cat_cols + num_but_cat\n",
    "    cat_cols = [col for col in cat_cols if col not in cat_but_car]\n",
    "\n",
    "    # num_cols\n",
    "    num_cols = [col for col in dataframe.columns if dataframe[col].dtypes != \"O\"]\n",
    "    num_cols = [col for col in num_cols if col not in num_but_cat]\n",
    "\n",
    "    print(f\"Observations: {dataframe.shape[0]}\")\n",
    "    print(f\"Variables: {dataframe.shape[1]}\")\n",
    "    print(f'cat_cols: {len(cat_cols)}')\n",
    "    print(f'num_cols: {len(num_cols)}')\n",
    "    print(f'cat_but_car: {len(cat_but_car)}')\n",
    "    print(f'num_but_cat: {len(num_but_cat)}')\n",
    "    return cat_cols, num_cols, cat_but_car"
   ]
  },
  {
   "cell_type": "code",
   "execution_count": 20,
   "id": "53f7cbae",
   "metadata": {
    "execution": {
     "iopub.execute_input": "2022-01-21T19:23:28.233864Z",
     "iopub.status.busy": "2022-01-21T19:23:28.233339Z",
     "iopub.status.idle": "2022-01-21T19:23:28.245634Z",
     "shell.execute_reply": "2022-01-21T19:23:28.246075Z",
     "shell.execute_reply.started": "2022-01-21T19:01:21.074732Z"
    },
    "papermill": {
     "duration": 0.056773,
     "end_time": "2022-01-21T19:23:28.246223",
     "exception": false,
     "start_time": "2022-01-21T19:23:28.189450",
     "status": "completed"
    },
    "tags": []
   },
   "outputs": [
    {
     "name": "stdout",
     "output_type": "stream",
     "text": [
      "Observations: 263\n",
      "Variables: 20\n",
      "cat_cols: 3\n",
      "num_cols: 17\n",
      "cat_but_car: 0\n",
      "num_but_cat: 0\n"
     ]
    },
    {
     "data": {
      "text/plain": [
       "['League', 'Division', 'NewLeague']"
      ]
     },
     "execution_count": 20,
     "metadata": {},
     "output_type": "execute_result"
    }
   ],
   "source": [
    "cat_cols, num_cols, cat_but_car = grab_col_names(df)\n",
    "cat_cols"
   ]
  },
  {
   "cell_type": "code",
   "execution_count": 21,
   "id": "94461c8d",
   "metadata": {
    "execution": {
     "iopub.execute_input": "2022-01-21T19:23:28.334365Z",
     "iopub.status.busy": "2022-01-21T19:23:28.331795Z",
     "iopub.status.idle": "2022-01-21T19:23:28.337921Z",
     "shell.execute_reply": "2022-01-21T19:23:28.338347Z",
     "shell.execute_reply.started": "2022-01-21T19:01:21.095468Z"
    },
    "papermill": {
     "duration": 0.050931,
     "end_time": "2022-01-21T19:23:28.338512",
     "exception": false,
     "start_time": "2022-01-21T19:23:28.287581",
     "status": "completed"
    },
    "tags": []
   },
   "outputs": [
    {
     "data": {
      "text/plain": [
       "['AtBat',\n",
       " 'Hits',\n",
       " 'HmRun',\n",
       " 'Runs',\n",
       " 'RBI',\n",
       " 'Walks',\n",
       " 'Years',\n",
       " 'CAtBat',\n",
       " 'CHits',\n",
       " 'CHmRun',\n",
       " 'CRuns',\n",
       " 'CRBI',\n",
       " 'CWalks',\n",
       " 'PutOuts',\n",
       " 'Assists',\n",
       " 'Errors',\n",
       " 'Salary']"
      ]
     },
     "execution_count": 21,
     "metadata": {},
     "output_type": "execute_result"
    }
   ],
   "source": [
    "num_cols"
   ]
  },
  {
   "cell_type": "code",
   "execution_count": 22,
   "id": "8309a44a",
   "metadata": {
    "execution": {
     "iopub.execute_input": "2022-01-21T19:23:28.424440Z",
     "iopub.status.busy": "2022-01-21T19:23:28.423988Z",
     "iopub.status.idle": "2022-01-21T19:23:28.428120Z",
     "shell.execute_reply": "2022-01-21T19:23:28.428568Z",
     "shell.execute_reply.started": "2022-01-21T19:01:21.103739Z"
    },
    "papermill": {
     "duration": 0.048683,
     "end_time": "2022-01-21T19:23:28.428720",
     "exception": false,
     "start_time": "2022-01-21T19:23:28.380037",
     "status": "completed"
    },
    "tags": []
   },
   "outputs": [
    {
     "data": {
      "text/plain": [
       "[]"
      ]
     },
     "execution_count": 22,
     "metadata": {},
     "output_type": "execute_result"
    }
   ],
   "source": [
    "cat_but_car"
   ]
  },
  {
   "cell_type": "code",
   "execution_count": 23,
   "id": "0ffa2ad6",
   "metadata": {
    "execution": {
     "iopub.execute_input": "2022-01-21T19:23:28.515102Z",
     "iopub.status.busy": "2022-01-21T19:23:28.514556Z",
     "iopub.status.idle": "2022-01-21T19:23:28.518614Z",
     "shell.execute_reply": "2022-01-21T19:23:28.519057Z",
     "shell.execute_reply.started": "2022-01-21T19:01:21.116469Z"
    },
    "papermill": {
     "duration": 0.048549,
     "end_time": "2022-01-21T19:23:28.519204",
     "exception": false,
     "start_time": "2022-01-21T19:23:28.470655",
     "status": "completed"
    },
    "tags": []
   },
   "outputs": [],
   "source": [
    "# encoding\n",
    "from sklearn.preprocessing import LabelEncoder\n",
    "\n",
    "le = LabelEncoder()\n",
    "binary_cols = [col for col in df.columns if df[col].dtype not in [int, float] and df[col].nunique() == 2]"
   ]
  },
  {
   "cell_type": "code",
   "execution_count": 24,
   "id": "f9e16df7",
   "metadata": {
    "execution": {
     "iopub.execute_input": "2022-01-21T19:23:28.609469Z",
     "iopub.status.busy": "2022-01-21T19:23:28.608745Z",
     "iopub.status.idle": "2022-01-21T19:23:28.615469Z",
     "shell.execute_reply": "2022-01-21T19:23:28.614870Z",
     "shell.execute_reply.started": "2022-01-21T19:01:21.128917Z"
    },
    "papermill": {
     "duration": 0.05332,
     "end_time": "2022-01-21T19:23:28.615605",
     "exception": false,
     "start_time": "2022-01-21T19:23:28.562285",
     "status": "completed"
    },
    "tags": []
   },
   "outputs": [],
   "source": [
    "for i in binary_cols:\n",
    "    df[i] = le.fit_transform(df[i])"
   ]
  },
  {
   "cell_type": "code",
   "execution_count": 25,
   "id": "4e5f025d",
   "metadata": {
    "execution": {
     "iopub.execute_input": "2022-01-21T19:23:28.712087Z",
     "iopub.status.busy": "2022-01-21T19:23:28.705371Z",
     "iopub.status.idle": "2022-01-21T19:23:28.716190Z",
     "shell.execute_reply": "2022-01-21T19:23:28.716617Z",
     "shell.execute_reply.started": "2022-01-21T19:01:21.143359Z"
    },
    "papermill": {
     "duration": 0.057221,
     "end_time": "2022-01-21T19:23:28.716787",
     "exception": false,
     "start_time": "2022-01-21T19:23:28.659566",
     "status": "completed"
    },
    "tags": []
   },
   "outputs": [],
   "source": [
    "#one hot encoding\n",
    "ohe_cols = [col for col in df.columns if 10 >= df[col].nunique() > 2]\n",
    "df=pd.get_dummies(df, columns=ohe_cols, drop_first=True)"
   ]
  },
  {
   "cell_type": "code",
   "execution_count": 26,
   "id": "f88856d3",
   "metadata": {
    "execution": {
     "iopub.execute_input": "2022-01-21T19:23:28.807542Z",
     "iopub.status.busy": "2022-01-21T19:23:28.807033Z",
     "iopub.status.idle": "2022-01-21T19:23:28.867936Z",
     "shell.execute_reply": "2022-01-21T19:23:28.868325Z",
     "shell.execute_reply.started": "2022-01-21T19:01:21.162836Z"
    },
    "papermill": {
     "duration": 0.107659,
     "end_time": "2022-01-21T19:23:28.868475",
     "exception": false,
     "start_time": "2022-01-21T19:23:28.760816",
     "status": "completed"
    },
    "tags": []
   },
   "outputs": [],
   "source": [
    "#standardization\n",
    "from sklearn.preprocessing import MinMaxScaler\n",
    "\n",
    "for col in num_cols:\n",
    "        transformer = MinMaxScaler().fit(df[[col]])\n",
    "        df[col] = transformer.transform(df[[col]])"
   ]
  },
  {
   "cell_type": "code",
   "execution_count": 27,
   "id": "7b127c9a",
   "metadata": {
    "execution": {
     "iopub.execute_input": "2022-01-21T19:23:28.960280Z",
     "iopub.status.busy": "2022-01-21T19:23:28.956736Z",
     "iopub.status.idle": "2022-01-21T19:23:28.966093Z",
     "shell.execute_reply": "2022-01-21T19:23:28.966517Z",
     "shell.execute_reply.started": "2022-01-21T19:01:21.230901Z"
    },
    "papermill": {
     "duration": 0.055611,
     "end_time": "2022-01-21T19:23:28.966688",
     "exception": false,
     "start_time": "2022-01-21T19:23:28.911077",
     "status": "completed"
    },
    "tags": []
   },
   "outputs": [],
   "source": [
    "# set model before feature engineering\n",
    "from sklearn.linear_model import LinearRegression\n",
    "y = df[\"Salary\"]\n",
    "X = df.drop([\"Salary\"], axis=1)\n",
    "\n",
    "X_train, X_test, y_train, y_test = train_test_split(X, y, train_size=0.80, random_state=42)"
   ]
  },
  {
   "cell_type": "code",
   "execution_count": 28,
   "id": "36f00589",
   "metadata": {
    "execution": {
     "iopub.execute_input": "2022-01-21T19:23:29.057978Z",
     "iopub.status.busy": "2022-01-21T19:23:29.057349Z",
     "iopub.status.idle": "2022-01-21T19:23:29.059820Z",
     "shell.execute_reply": "2022-01-21T19:23:29.060218Z",
     "shell.execute_reply.started": "2022-01-21T19:01:21.240523Z"
    },
    "papermill": {
     "duration": 0.050901,
     "end_time": "2022-01-21T19:23:29.060370",
     "exception": false,
     "start_time": "2022-01-21T19:23:29.009469",
     "status": "completed"
    },
    "tags": []
   },
   "outputs": [],
   "source": [
    "# Faeture Importance\n",
    "def plot_importance(model, features, num=len(X)):\n",
    "    feature_imp = pd.DataFrame({'Value': model.feature_importances_, 'Feature': features.columns})\n",
    "    plt.figure(figsize=(10, 10))\n",
    "    sns.set(font_scale=1)\n",
    "    sns.barplot(x=\"Value\", y=\"Feature\", data=feature_imp.sort_values(by=\"Value\",\n",
    "                                                                     ascending=False)[0:num])\n",
    "    plt.title('Features')\n",
    "    plt.tight_layout()\n",
    "    plt.show()\n",
    "    \n",
    "#plot_importance(LR, X_test)"
   ]
  },
  {
   "cell_type": "code",
   "execution_count": 29,
   "id": "60cb9737",
   "metadata": {
    "execution": {
     "iopub.execute_input": "2022-01-21T19:23:29.150352Z",
     "iopub.status.busy": "2022-01-21T19:23:29.149746Z",
     "iopub.status.idle": "2022-01-21T19:23:29.152118Z",
     "shell.execute_reply": "2022-01-21T19:23:29.152624Z",
     "shell.execute_reply.started": "2022-01-21T19:01:21.251826Z"
    },
    "papermill": {
     "duration": 0.049789,
     "end_time": "2022-01-21T19:23:29.152795",
     "exception": false,
     "start_time": "2022-01-21T19:23:29.103006",
     "status": "completed"
    },
    "tags": []
   },
   "outputs": [],
   "source": [
    "def train_model(model,name):\n",
    "    \n",
    "    model.fit(X_train, y_train)\n",
    "    y_pred_1 = model.predict(X_train)\n",
    "    y_pred = model.predict(X_test)\n",
    "    \n",
    "    print(model.intercept_)\n",
    "    print(model.coef_)\n",
    "    \n",
    "    return model, y_pred_1, y_pred"
   ]
  },
  {
   "cell_type": "code",
   "execution_count": 30,
   "id": "269a6b97",
   "metadata": {
    "execution": {
     "iopub.execute_input": "2022-01-21T19:23:29.295275Z",
     "iopub.status.busy": "2022-01-21T19:23:29.285450Z",
     "iopub.status.idle": "2022-01-21T19:23:29.302081Z",
     "shell.execute_reply": "2022-01-21T19:23:29.302711Z",
     "shell.execute_reply.started": "2022-01-21T19:01:21.265863Z"
    },
    "papermill": {
     "duration": 0.089854,
     "end_time": "2022-01-21T19:23:29.302921",
     "exception": false,
     "start_time": "2022-01-21T19:23:29.213067",
     "status": "completed"
    },
    "tags": []
   },
   "outputs": [
    {
     "name": "stdout",
     "output_type": "stream",
     "text": [
      "-0.026036197066735434\n",
      "[-0.41283496  0.7352444   0.08002128 -0.1550935  -0.07297316  0.24372274\n",
      "  0.07745806 -1.35113422  0.19384429 -0.10764172  1.5254158   0.65173623\n",
      " -0.53676617  0.04512478 -0.04758365  0.14269429  0.04645836 -0.0087055\n",
      " -0.02664614]\n"
     ]
    }
   ],
   "source": [
    "LinReg, y_pred_1, y_pred = train_model(LinearRegression(),\"LinearRegressor\")"
   ]
  },
  {
   "cell_type": "code",
   "execution_count": 31,
   "id": "686d7916",
   "metadata": {
    "execution": {
     "iopub.execute_input": "2022-01-21T19:23:29.435606Z",
     "iopub.status.busy": "2022-01-21T19:23:29.434946Z",
     "iopub.status.idle": "2022-01-21T19:23:29.445129Z",
     "shell.execute_reply": "2022-01-21T19:23:29.445888Z",
     "shell.execute_reply.started": "2022-01-21T19:01:21.285366Z"
    },
    "papermill": {
     "duration": 0.078492,
     "end_time": "2022-01-21T19:23:29.446202",
     "exception": false,
     "start_time": "2022-01-21T19:23:29.367710",
     "status": "completed"
    },
    "tags": []
   },
   "outputs": [
    {
     "name": "stdout",
     "output_type": "stream",
     "text": [
      "Train RMSE: 0.12\n",
      "Test RMSE: 0.15 \n",
      "\n",
      "Train MAE: 0.09\n",
      "Test MAE: 0.09 \n",
      "\n",
      "Train R^2: 0.59\n",
      "Test R^2: 0.29\n"
     ]
    }
   ],
   "source": [
    "print(\"Train RMSE:\", \"{:,.2f}\".format(np.sqrt(mean_squared_error(y_train, y_pred_1))))\n",
    "print(\"Test RMSE:\", \"{:,.2f}\".format(np.sqrt(mean_squared_error(y_test, y_pred))), \"\\n\")\n",
    "          \n",
    "print(\"Train MAE:\", \"{:,.2f}\".format(mean_absolute_error(y_train, y_pred_1)))\n",
    "print(\"Test MAE:\", \"{:,.2f}\".format(mean_absolute_error(y_test, y_pred)), \"\\n\")\n",
    "      \n",
    "print(\"Train R^2:\", \"{:,.2f}\".format(r2_score(y_train, y_pred_1)))\n",
    "print(\"Test R^2:\", \"{:,.2f}\".format(r2_score(y_test, y_pred)))"
   ]
  },
  {
   "cell_type": "code",
   "execution_count": 32,
   "id": "2dd0c67f",
   "metadata": {
    "execution": {
     "iopub.execute_input": "2022-01-21T19:23:29.536703Z",
     "iopub.status.busy": "2022-01-21T19:23:29.535984Z",
     "iopub.status.idle": "2022-01-21T19:23:29.542543Z",
     "shell.execute_reply": "2022-01-21T19:23:29.543039Z",
     "shell.execute_reply.started": "2022-01-21T19:01:21.299904Z"
    },
    "papermill": {
     "duration": 0.052914,
     "end_time": "2022-01-21T19:23:29.543184",
     "exception": false,
     "start_time": "2022-01-21T19:23:29.490270",
     "status": "completed"
    },
    "tags": []
   },
   "outputs": [
    {
     "data": {
      "text/plain": [
       "0.2907451855798152"
      ]
     },
     "execution_count": 32,
     "metadata": {},
     "output_type": "execute_result"
    }
   ],
   "source": [
    "LinReg.score(X_test, y_test)"
   ]
  },
  {
   "cell_type": "code",
   "execution_count": 33,
   "id": "e44ed514",
   "metadata": {
    "execution": {
     "iopub.execute_input": "2022-01-21T19:23:29.633752Z",
     "iopub.status.busy": "2022-01-21T19:23:29.633040Z",
     "iopub.status.idle": "2022-01-21T19:23:29.636638Z",
     "shell.execute_reply": "2022-01-21T19:23:29.637081Z",
     "shell.execute_reply.started": "2022-01-21T19:01:21.315663Z"
    },
    "papermill": {
     "duration": 0.049986,
     "end_time": "2022-01-21T19:23:29.637233",
     "exception": false,
     "start_time": "2022-01-21T19:23:29.587247",
     "status": "completed"
    },
    "tags": []
   },
   "outputs": [],
   "source": [
    "# As we can see, our accuracy is so low, therefore we need to create different features\n",
    "# Below will be updated constantly as I work on it."
   ]
  },
  {
   "cell_type": "code",
   "execution_count": 34,
   "id": "e012c318",
   "metadata": {
    "execution": {
     "iopub.execute_input": "2022-01-21T19:23:29.724867Z",
     "iopub.status.busy": "2022-01-21T19:23:29.724168Z",
     "iopub.status.idle": "2022-01-21T19:23:29.785115Z",
     "shell.execute_reply": "2022-01-21T19:23:29.784670Z",
     "shell.execute_reply.started": "2022-01-21T19:12:34.710862Z"
    },
    "papermill": {
     "duration": 0.10577,
     "end_time": "2022-01-21T19:23:29.785232",
     "exception": false,
     "start_time": "2022-01-21T19:23:29.679462",
     "status": "completed"
    },
    "tags": []
   },
   "outputs": [
    {
     "data": {
      "text/plain": [
       "False"
      ]
     },
     "execution_count": 34,
     "metadata": {},
     "output_type": "execute_result"
    }
   ],
   "source": [
    "df = pd.read_csv(\"../input/hitters-baseball-data/Hitters.csv\")\n",
    "df.dropna(inplace=True)\n",
    "df.isnull().sum()\n",
    "low_limit,up_limit = outlier_thresholds(df, \"Salary\")\n",
    "num_cols = [col for col in df.columns if df[col].dtypes != \"O\"]\n",
    "\n",
    "for col in num_cols:\n",
    "    replace_with_thresholds(df, col)\n",
    "    \n",
    "check_outlier(df, \"Salary\")"
   ]
  },
  {
   "cell_type": "code",
   "execution_count": 35,
   "id": "c68a798b",
   "metadata": {
    "execution": {
     "iopub.execute_input": "2022-01-21T19:23:29.883340Z",
     "iopub.status.busy": "2022-01-21T19:23:29.882670Z",
     "iopub.status.idle": "2022-01-21T19:23:29.886170Z",
     "shell.execute_reply": "2022-01-21T19:23:29.885647Z",
     "shell.execute_reply.started": "2022-01-21T19:12:36.475705Z"
    },
    "papermill": {
     "duration": 0.058082,
     "end_time": "2022-01-21T19:23:29.886303",
     "exception": false,
     "start_time": "2022-01-21T19:23:29.828221",
     "status": "completed"
    },
    "tags": []
   },
   "outputs": [],
   "source": [
    "df[\"CAtBat_y\"]=df[\"CAtBat\"]/df[\"Years\"]\n",
    "df[\"CHits_y\"]=df[\"CHits\"]/df[\"Years\"]\n",
    "df[\"CHmRun_y\"]=df[\"CHmRun\"]/df[\"Years\"]\n",
    "df[\"CRuns_y\"]=df['CRuns']/df[\"Years\"]\n",
    "df[\"CRBI_y\"]=df[\"CRBI\"]/df[\"Years\"]\n",
    "df[\"CWalks_y\"]=df[\"CWalks\"]/df[\"Years\"]"
   ]
  },
  {
   "cell_type": "code",
   "execution_count": 36,
   "id": "5cd73201",
   "metadata": {
    "execution": {
     "iopub.execute_input": "2022-01-21T19:23:30.023562Z",
     "iopub.status.busy": "2022-01-21T19:23:30.022862Z",
     "iopub.status.idle": "2022-01-21T19:23:30.025971Z",
     "shell.execute_reply": "2022-01-21T19:23:30.025404Z",
     "shell.execute_reply.started": "2022-01-21T19:12:38.070525Z"
    },
    "papermill": {
     "duration": 0.075855,
     "end_time": "2022-01-21T19:23:30.026109",
     "exception": false,
     "start_time": "2022-01-21T19:23:29.950254",
     "status": "completed"
    },
    "tags": []
   },
   "outputs": [],
   "source": [
    "df[\"n_Walks\"]=df[\"Walks\"]/df[\"CWalks\"]\n",
    "df[\"n_Atbat\"]=df[\"AtBat\"]/df[\"CAtBat\"]\n",
    "df[\"n_Hits\"]=df[\"Hits\"]/df[\"CHits\"]\n",
    "df[\"n_Runs\"]=df[\"Runs\"]/df['CRuns']\n",
    "df[\"n_RBI\"]=df[\"RBI\"]/df[\"CRBI\"]"
   ]
  },
  {
   "cell_type": "code",
   "execution_count": 37,
   "id": "78625a3b",
   "metadata": {
    "execution": {
     "iopub.execute_input": "2022-01-21T19:23:30.160735Z",
     "iopub.status.busy": "2022-01-21T19:23:30.160066Z",
     "iopub.status.idle": "2022-01-21T19:23:30.163241Z",
     "shell.execute_reply": "2022-01-21T19:23:30.162645Z",
     "shell.execute_reply.started": "2022-01-21T19:12:39.540882Z"
    },
    "papermill": {
     "duration": 0.072896,
     "end_time": "2022-01-21T19:23:30.163392",
     "exception": false,
     "start_time": "2022-01-21T19:23:30.090496",
     "status": "completed"
    },
    "tags": []
   },
   "outputs": [],
   "source": [
    "df[\"RBI_Walks\"]=df[\"RBI\"]*df[\"Walks\"]"
   ]
  },
  {
   "cell_type": "code",
   "execution_count": 38,
   "id": "6bc04fc6",
   "metadata": {
    "execution": {
     "iopub.execute_input": "2022-01-21T19:23:30.298515Z",
     "iopub.status.busy": "2022-01-21T19:23:30.297792Z",
     "iopub.status.idle": "2022-01-21T19:23:30.299698Z",
     "shell.execute_reply": "2022-01-21T19:23:30.300186Z",
     "shell.execute_reply.started": "2022-01-21T19:12:40.730632Z"
    },
    "papermill": {
     "duration": 0.073042,
     "end_time": "2022-01-21T19:23:30.300353",
     "exception": false,
     "start_time": "2022-01-21T19:23:30.227311",
     "status": "completed"
    },
    "tags": []
   },
   "outputs": [],
   "source": [
    "df['Runs_CRuns_y'] = df['Runs'] / (df['CRuns'] * df['Years'])"
   ]
  },
  {
   "cell_type": "code",
   "execution_count": 39,
   "id": "5a31d0f4",
   "metadata": {
    "execution": {
     "iopub.execute_input": "2022-01-21T19:23:30.437281Z",
     "iopub.status.busy": "2022-01-21T19:23:30.436595Z",
     "iopub.status.idle": "2022-01-21T19:23:30.439490Z",
     "shell.execute_reply": "2022-01-21T19:23:30.438832Z",
     "shell.execute_reply.started": "2022-01-21T19:12:42.144047Z"
    },
    "papermill": {
     "duration": 0.074562,
     "end_time": "2022-01-21T19:23:30.439640",
     "exception": false,
     "start_time": "2022-01-21T19:23:30.365078",
     "status": "completed"
    },
    "tags": []
   },
   "outputs": [],
   "source": [
    "df.loc[(df[\"Runs\"] > df[\"CRuns_y\"]),\"new_runs\"] = 1\n",
    "df.loc[(df[\"Runs\"] <= df[\"CRuns_y\"]),\"new_runs\"] = 0"
   ]
  },
  {
   "cell_type": "code",
   "execution_count": 40,
   "id": "e9b790c4",
   "metadata": {
    "execution": {
     "iopub.execute_input": "2022-01-21T19:23:30.595223Z",
     "iopub.status.busy": "2022-01-21T19:23:30.584517Z",
     "iopub.status.idle": "2022-01-21T19:23:30.607647Z",
     "shell.execute_reply": "2022-01-21T19:23:30.607015Z",
     "shell.execute_reply.started": "2022-01-21T19:12:43.417566Z"
    },
    "papermill": {
     "duration": 0.103314,
     "end_time": "2022-01-21T19:23:30.607793",
     "exception": false,
     "start_time": "2022-01-21T19:23:30.504479",
     "status": "completed"
    },
    "tags": []
   },
   "outputs": [
    {
     "data": {
      "text/html": [
       "<div>\n",
       "<style scoped>\n",
       "    .dataframe tbody tr th:only-of-type {\n",
       "        vertical-align: middle;\n",
       "    }\n",
       "\n",
       "    .dataframe tbody tr th {\n",
       "        vertical-align: top;\n",
       "    }\n",
       "\n",
       "    .dataframe thead th {\n",
       "        text-align: right;\n",
       "    }\n",
       "</style>\n",
       "<table border=\"1\" class=\"dataframe\">\n",
       "  <thead>\n",
       "    <tr style=\"text-align: right;\">\n",
       "      <th></th>\n",
       "      <th>AtBat</th>\n",
       "      <th>Hits</th>\n",
       "      <th>HmRun</th>\n",
       "      <th>Runs</th>\n",
       "      <th>RBI</th>\n",
       "      <th>Walks</th>\n",
       "      <th>Years</th>\n",
       "      <th>CAtBat</th>\n",
       "      <th>CHits</th>\n",
       "      <th>CHmRun</th>\n",
       "      <th>...</th>\n",
       "      <th>n_Walks</th>\n",
       "      <th>n_Atbat</th>\n",
       "      <th>n_Hits</th>\n",
       "      <th>n_Runs</th>\n",
       "      <th>n_RBI</th>\n",
       "      <th>RBI_Walks</th>\n",
       "      <th>Runs_CRuns_y</th>\n",
       "      <th>new_runs</th>\n",
       "      <th>experience</th>\n",
       "      <th>condition</th>\n",
       "    </tr>\n",
       "  </thead>\n",
       "  <tbody>\n",
       "    <tr>\n",
       "      <th>1</th>\n",
       "      <td>315.0</td>\n",
       "      <td>81.0</td>\n",
       "      <td>7</td>\n",
       "      <td>24.0</td>\n",
       "      <td>38.0</td>\n",
       "      <td>39.0</td>\n",
       "      <td>14.0</td>\n",
       "      <td>3449.0</td>\n",
       "      <td>835.0</td>\n",
       "      <td>69.0</td>\n",
       "      <td>...</td>\n",
       "      <td>0.104000</td>\n",
       "      <td>0.091331</td>\n",
       "      <td>0.097006</td>\n",
       "      <td>0.074766</td>\n",
       "      <td>0.091787</td>\n",
       "      <td>1482.0</td>\n",
       "      <td>0.005340</td>\n",
       "      <td>1.0</td>\n",
       "      <td>senior</td>\n",
       "      <td>good</td>\n",
       "    </tr>\n",
       "    <tr>\n",
       "      <th>2</th>\n",
       "      <td>479.0</td>\n",
       "      <td>130.0</td>\n",
       "      <td>18</td>\n",
       "      <td>66.0</td>\n",
       "      <td>72.0</td>\n",
       "      <td>76.0</td>\n",
       "      <td>3.0</td>\n",
       "      <td>1624.0</td>\n",
       "      <td>457.0</td>\n",
       "      <td>63.0</td>\n",
       "      <td>...</td>\n",
       "      <td>0.288973</td>\n",
       "      <td>0.294951</td>\n",
       "      <td>0.284464</td>\n",
       "      <td>0.294643</td>\n",
       "      <td>0.270677</td>\n",
       "      <td>5472.0</td>\n",
       "      <td>0.098214</td>\n",
       "      <td>0.0</td>\n",
       "      <td>beginner</td>\n",
       "      <td>bad</td>\n",
       "    </tr>\n",
       "    <tr>\n",
       "      <th>3</th>\n",
       "      <td>496.0</td>\n",
       "      <td>141.0</td>\n",
       "      <td>20</td>\n",
       "      <td>65.0</td>\n",
       "      <td>78.0</td>\n",
       "      <td>37.0</td>\n",
       "      <td>11.0</td>\n",
       "      <td>5628.0</td>\n",
       "      <td>1575.0</td>\n",
       "      <td>225.0</td>\n",
       "      <td>...</td>\n",
       "      <td>0.104520</td>\n",
       "      <td>0.088131</td>\n",
       "      <td>0.089524</td>\n",
       "      <td>0.078502</td>\n",
       "      <td>0.093079</td>\n",
       "      <td>2886.0</td>\n",
       "      <td>0.007137</td>\n",
       "      <td>0.0</td>\n",
       "      <td>senior</td>\n",
       "      <td>good</td>\n",
       "    </tr>\n",
       "    <tr>\n",
       "      <th>4</th>\n",
       "      <td>321.0</td>\n",
       "      <td>87.0</td>\n",
       "      <td>10</td>\n",
       "      <td>39.0</td>\n",
       "      <td>42.0</td>\n",
       "      <td>30.0</td>\n",
       "      <td>2.0</td>\n",
       "      <td>396.0</td>\n",
       "      <td>101.0</td>\n",
       "      <td>12.0</td>\n",
       "      <td>...</td>\n",
       "      <td>0.909091</td>\n",
       "      <td>0.810606</td>\n",
       "      <td>0.861386</td>\n",
       "      <td>0.812500</td>\n",
       "      <td>0.913043</td>\n",
       "      <td>1260.0</td>\n",
       "      <td>0.406250</td>\n",
       "      <td>1.0</td>\n",
       "      <td>beginner</td>\n",
       "      <td>good</td>\n",
       "    </tr>\n",
       "    <tr>\n",
       "      <th>5</th>\n",
       "      <td>594.0</td>\n",
       "      <td>169.0</td>\n",
       "      <td>4</td>\n",
       "      <td>74.0</td>\n",
       "      <td>51.0</td>\n",
       "      <td>35.0</td>\n",
       "      <td>11.0</td>\n",
       "      <td>4408.0</td>\n",
       "      <td>1133.0</td>\n",
       "      <td>19.0</td>\n",
       "      <td>...</td>\n",
       "      <td>0.180412</td>\n",
       "      <td>0.134755</td>\n",
       "      <td>0.149162</td>\n",
       "      <td>0.147705</td>\n",
       "      <td>0.151786</td>\n",
       "      <td>1785.0</td>\n",
       "      <td>0.013428</td>\n",
       "      <td>1.0</td>\n",
       "      <td>senior</td>\n",
       "      <td>bad</td>\n",
       "    </tr>\n",
       "  </tbody>\n",
       "</table>\n",
       "<p>5 rows × 36 columns</p>\n",
       "</div>"
      ],
      "text/plain": [
       "   AtBat   Hits  HmRun  Runs   RBI  Walks  Years  CAtBat   CHits  CHmRun  ...  \\\n",
       "1  315.0   81.0      7  24.0  38.0   39.0   14.0  3449.0   835.0    69.0  ...   \n",
       "2  479.0  130.0     18  66.0  72.0   76.0    3.0  1624.0   457.0    63.0  ...   \n",
       "3  496.0  141.0     20  65.0  78.0   37.0   11.0  5628.0  1575.0   225.0  ...   \n",
       "4  321.0   87.0     10  39.0  42.0   30.0    2.0   396.0   101.0    12.0  ...   \n",
       "5  594.0  169.0      4  74.0  51.0   35.0   11.0  4408.0  1133.0    19.0  ...   \n",
       "\n",
       "    n_Walks   n_Atbat    n_Hits    n_Runs     n_RBI  RBI_Walks  Runs_CRuns_y  \\\n",
       "1  0.104000  0.091331  0.097006  0.074766  0.091787     1482.0      0.005340   \n",
       "2  0.288973  0.294951  0.284464  0.294643  0.270677     5472.0      0.098214   \n",
       "3  0.104520  0.088131  0.089524  0.078502  0.093079     2886.0      0.007137   \n",
       "4  0.909091  0.810606  0.861386  0.812500  0.913043     1260.0      0.406250   \n",
       "5  0.180412  0.134755  0.149162  0.147705  0.151786     1785.0      0.013428   \n",
       "\n",
       "   new_runs  experience condition  \n",
       "1       1.0      senior      good  \n",
       "2       0.0    beginner       bad  \n",
       "3       0.0      senior      good  \n",
       "4       1.0    beginner      good  \n",
       "5       1.0      senior       bad  \n",
       "\n",
       "[5 rows x 36 columns]"
      ]
     },
     "execution_count": 40,
     "metadata": {},
     "output_type": "execute_result"
    }
   ],
   "source": [
    "def gen(df,c,a,b,t,y,y1,y2):\n",
    "    df.loc[(df[c] < a), t] = y\n",
    "    df.loc[(df[c] >= a) & (df[c] < b), t] = y1\n",
    "    df.loc[(df[c] >= b), t] = y2\n",
    "    return df[t]\n",
    "gen(df,\"Years\",4,11,\"experience\",\"beginner\",\"intermediate\",\"senior\")\n",
    "gen(df,\"Errors\",3,11,\"condition\",\"verygood\",\"good\",\"bad\")\n",
    "df.head()"
   ]
  },
  {
   "cell_type": "code",
   "execution_count": 41,
   "id": "4f821aef",
   "metadata": {
    "execution": {
     "iopub.execute_input": "2022-01-21T19:23:30.747594Z",
     "iopub.status.busy": "2022-01-21T19:23:30.746938Z",
     "iopub.status.idle": "2022-01-21T19:23:30.755223Z",
     "shell.execute_reply": "2022-01-21T19:23:30.754638Z",
     "shell.execute_reply.started": "2022-01-21T19:12:45.334832Z"
    },
    "papermill": {
     "duration": 0.081524,
     "end_time": "2022-01-21T19:23:30.755382",
     "exception": false,
     "start_time": "2022-01-21T19:23:30.673858",
     "status": "completed"
    },
    "tags": []
   },
   "outputs": [
    {
     "name": "stdout",
     "output_type": "stream",
     "text": [
      "Observations: 263\n",
      "Variables: 36\n",
      "cat_cols: 6\n",
      "num_cols: 30\n",
      "cat_but_car: 0\n",
      "num_but_cat: 1\n"
     ]
    }
   ],
   "source": [
    "cat_cols, num_cols, cat_but_car = grab_col_names(df)"
   ]
  },
  {
   "cell_type": "markdown",
   "id": "f0a6b203",
   "metadata": {
    "papermill": {
     "duration": 0.065014,
     "end_time": "2022-01-21T19:23:30.886670",
     "exception": false,
     "start_time": "2022-01-21T19:23:30.821656",
     "status": "completed"
    },
    "tags": []
   },
   "source": [
    "Variables were 20, now we have 36"
   ]
  },
  {
   "cell_type": "code",
   "execution_count": 42,
   "id": "9e133831",
   "metadata": {
    "execution": {
     "iopub.execute_input": "2022-01-21T19:23:31.024038Z",
     "iopub.status.busy": "2022-01-21T19:23:31.023340Z",
     "iopub.status.idle": "2022-01-21T19:23:31.027658Z",
     "shell.execute_reply": "2022-01-21T19:23:31.026851Z",
     "shell.execute_reply.started": "2022-01-21T19:12:47.514660Z"
    },
    "papermill": {
     "duration": 0.07525,
     "end_time": "2022-01-21T19:23:31.027814",
     "exception": false,
     "start_time": "2022-01-21T19:23:30.952564",
     "status": "completed"
    },
    "tags": []
   },
   "outputs": [],
   "source": [
    "binary_cols = [col for col in df.columns if df[col].dtype not in [int, float]and df[col].nunique() == 2]                                     \n"
   ]
  },
  {
   "cell_type": "code",
   "execution_count": 43,
   "id": "0ffc4e12",
   "metadata": {
    "execution": {
     "iopub.execute_input": "2022-01-21T19:23:31.167159Z",
     "iopub.status.busy": "2022-01-21T19:23:31.166453Z",
     "iopub.status.idle": "2022-01-21T19:23:31.168703Z",
     "shell.execute_reply": "2022-01-21T19:23:31.169237Z",
     "shell.execute_reply.started": "2022-01-21T19:12:49.273885Z"
    },
    "papermill": {
     "duration": 0.074842,
     "end_time": "2022-01-21T19:23:31.169427",
     "exception": false,
     "start_time": "2022-01-21T19:23:31.094585",
     "status": "completed"
    },
    "tags": []
   },
   "outputs": [],
   "source": [
    "for i in binary_cols:\n",
    "    df[i] = le.fit_transform(df[i])"
   ]
  },
  {
   "cell_type": "code",
   "execution_count": 44,
   "id": "29512798",
   "metadata": {
    "execution": {
     "iopub.execute_input": "2022-01-21T19:23:31.310135Z",
     "iopub.status.busy": "2022-01-21T19:23:31.308262Z",
     "iopub.status.idle": "2022-01-21T19:23:31.318825Z",
     "shell.execute_reply": "2022-01-21T19:23:31.318165Z",
     "shell.execute_reply.started": "2022-01-21T19:12:50.610059Z"
    },
    "papermill": {
     "duration": 0.083573,
     "end_time": "2022-01-21T19:23:31.318991",
     "exception": false,
     "start_time": "2022-01-21T19:23:31.235418",
     "status": "completed"
    },
    "tags": []
   },
   "outputs": [],
   "source": [
    "ohe_cols = [col for col in df.columns if 10 >= df[col].nunique() > 2]\n",
    "                                       \n",
    "df=pd.get_dummies(df, columns=ohe_cols, drop_first=True)"
   ]
  },
  {
   "cell_type": "code",
   "execution_count": 45,
   "id": "a437370e",
   "metadata": {
    "execution": {
     "iopub.execute_input": "2022-01-21T19:23:31.519483Z",
     "iopub.status.busy": "2022-01-21T19:23:31.437441Z",
     "iopub.status.idle": "2022-01-21T19:23:31.522424Z",
     "shell.execute_reply": "2022-01-21T19:23:31.521990Z",
     "shell.execute_reply.started": "2022-01-21T19:12:52.378222Z"
    },
    "papermill": {
     "duration": 0.144656,
     "end_time": "2022-01-21T19:23:31.522541",
     "exception": false,
     "start_time": "2022-01-21T19:23:31.377885",
     "status": "completed"
    },
    "tags": []
   },
   "outputs": [],
   "source": [
    "for col in num_cols:\n",
    "        transformer = MinMaxScaler().fit(df[[col]])\n",
    "        df[col] = transformer.transform(df[[col]])"
   ]
  },
  {
   "cell_type": "code",
   "execution_count": 46,
   "id": "8eb84eea",
   "metadata": {
    "execution": {
     "iopub.execute_input": "2022-01-21T19:23:31.645353Z",
     "iopub.status.busy": "2022-01-21T19:23:31.643714Z",
     "iopub.status.idle": "2022-01-21T19:23:31.651449Z",
     "shell.execute_reply": "2022-01-21T19:23:31.650926Z"
    },
    "papermill": {
     "duration": 0.084349,
     "end_time": "2022-01-21T19:23:31.651594",
     "exception": false,
     "start_time": "2022-01-21T19:23:31.567245",
     "status": "completed"
    },
    "tags": []
   },
   "outputs": [
    {
     "name": "stdout",
     "output_type": "stream",
     "text": [
      "0.17529920158851764\n",
      "[-0.18246227  0.48882716 -0.10496073 -0.06410721 -0.27016883 -0.14935878\n",
      " -0.32108236 -1.22320581 -0.23713001 -0.52948674  1.73629404  1.14125723\n",
      " -0.55976368  0.00889611 -0.03622638  0.0968451   0.01429291  0.17180519\n",
      "  0.01602759 -0.4618358   0.58653114  0.37473112 -0.27190773 -0.33887817\n",
      "  0.16575869  0.01487362  0.38240114 -0.29909966 -0.62045987  0.04886663\n",
      "  0.53782424  0.27916694  0.01728335  0.06792894  0.03428305  0.06662726\n",
      "  0.04862961]\n"
     ]
    }
   ],
   "source": [
    "X = df.drop([\"Salary\"], axis=1)\n",
    "y = df[\"Salary\"]\n",
    "\n",
    "X_train, X_test, y_train, y_test = train_test_split(X, y, train_size=0.80, random_state=42)\n",
    "LinReg2, y_pred_n_2, y_pred_2 = train_model(LinearRegression(),\"LinearRegressor\")"
   ]
  },
  {
   "cell_type": "code",
   "execution_count": 47,
   "id": "4d9a0c15",
   "metadata": {
    "execution": {
     "iopub.execute_input": "2022-01-21T19:23:31.792574Z",
     "iopub.status.busy": "2022-01-21T19:23:31.791746Z",
     "iopub.status.idle": "2022-01-21T19:23:31.799000Z",
     "shell.execute_reply": "2022-01-21T19:23:31.798328Z",
     "shell.execute_reply.started": "2022-01-21T19:16:34.139057Z"
    },
    "papermill": {
     "duration": 0.082356,
     "end_time": "2022-01-21T19:23:31.799132",
     "exception": false,
     "start_time": "2022-01-21T19:23:31.716776",
     "status": "completed"
    },
    "tags": []
   },
   "outputs": [
    {
     "name": "stdout",
     "output_type": "stream",
     "text": [
      "Train RMSE: 0.10\n",
      "Test RMSE: 0.15 \n",
      "\n",
      "Train MAE: 0.07\n",
      "Test MAE: 0.09 \n",
      "\n",
      "Train R^2: 0.73\n",
      "Test R^2: 0.29\n"
     ]
    }
   ],
   "source": [
    "print(\"Train RMSE:\", \"{:,.2f}\".format(np.sqrt(mean_squared_error(y_train, y_pred_n_2))))\n",
    "print(\"Test RMSE:\", \"{:,.2f}\".format(np.sqrt(mean_squared_error(y_test, y_pred))), \"\\n\")\n",
    "          \n",
    "print(\"Train MAE:\", \"{:,.2f}\".format(mean_absolute_error(y_train, y_pred_n_2)))\n",
    "print(\"Test MAE:\", \"{:,.2f}\".format(mean_absolute_error(y_test, y_pred)), \"\\n\")\n",
    "      \n",
    "print(\"Train R^2:\", \"{:,.2f}\".format(r2_score(y_train, y_pred_n_2)))\n",
    "print(\"Test R^2:\", \"{:,.2f}\".format(r2_score(y_test, y_pred)))"
   ]
  },
  {
   "cell_type": "code",
   "execution_count": 48,
   "id": "7b6e83e6",
   "metadata": {
    "execution": {
     "iopub.execute_input": "2022-01-21T19:23:31.940121Z",
     "iopub.status.busy": "2022-01-21T19:23:31.939462Z",
     "iopub.status.idle": "2022-01-21T19:23:31.941956Z",
     "shell.execute_reply": "2022-01-21T19:23:31.942459Z",
     "shell.execute_reply.started": "2022-01-21T19:16:54.505193Z"
    },
    "papermill": {
     "duration": 0.076804,
     "end_time": "2022-01-21T19:23:31.942624",
     "exception": false,
     "start_time": "2022-01-21T19:23:31.865820",
     "status": "completed"
    },
    "tags": []
   },
   "outputs": [
    {
     "data": {
      "text/plain": [
       "0.6514840450747998"
      ]
     },
     "execution_count": 48,
     "metadata": {},
     "output_type": "execute_result"
    }
   ],
   "source": [
    "LinReg2.score(X_test, y_test)"
   ]
  },
  {
   "cell_type": "markdown",
   "id": "2c636971",
   "metadata": {
    "papermill": {
     "duration": 0.066561,
     "end_time": "2022-01-21T19:23:32.076701",
     "exception": false,
     "start_time": "2022-01-21T19:23:32.010140",
     "status": "completed"
    },
    "tags": []
   },
   "source": [
    "Just with a simple feature engineering, we boost our score from 0.29 to 0.65"
   ]
  }
 ],
 "metadata": {
  "kernelspec": {
   "display_name": "Python 3",
   "language": "python",
   "name": "python3"
  },
  "language_info": {
   "codemirror_mode": {
    "name": "ipython",
    "version": 3
   },
   "file_extension": ".py",
   "mimetype": "text/x-python",
   "name": "python",
   "nbconvert_exporter": "python",
   "pygments_lexer": "ipython3",
   "version": "3.7.12"
  },
  "papermill": {
   "default_parameters": {},
   "duration": 18.07067,
   "end_time": "2022-01-21T19:23:32.853852",
   "environment_variables": {},
   "exception": null,
   "input_path": "__notebook__.ipynb",
   "output_path": "__notebook__.ipynb",
   "parameters": {},
   "start_time": "2022-01-21T19:23:14.783182",
   "version": "2.3.3"
  }
 },
 "nbformat": 4,
 "nbformat_minor": 5
}
